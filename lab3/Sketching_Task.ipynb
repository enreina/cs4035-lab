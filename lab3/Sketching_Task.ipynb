{
 "cells": [
  {
   "cell_type": "markdown",
   "metadata": {},
   "source": [
    "### Task 2  SKETCHING TASK "
   ]
  },
  {
   "cell_type": "markdown",
   "metadata": {},
   "source": [
    "TO DO\n",
    "1. Build code for computing a Count-Min sketch,\n",
    "2. play with different heights and widths for the Count-Min sketch matrix. \n",
    "3. Compare it to the MIN_WISE sampling strategy. \n",
    "4. Is it more space-efficient/accurate? What about run-time? \n",
    "5. Use the theory to explain any differences you observe."
   ]
  },
  {
   "cell_type": "markdown",
   "metadata": {},
   "source": [
    "ALGORITHM: COUNT - MIN SKETCH\n",
    "\n",
    "count_min_sketch (over_count, return_minimum value, support subtraction)\n",
    "    1. Initialize the 2D d x w array of counters\n",
    "    2. Pick \"d\" hash functions for the i-th item\n",
    "    3. For every hash in the hash function \n",
    "        counter of h(item) = counter of h(item) + 1\n",
    "    4. For any \"item\" \n",
    "        report the minimum value of the h(item) as the estimation of frequency\n",
    "    \n",
    "    \n",
    "item is ip_address\n",
    "h is hash function "
   ]
  },
  {
   "cell_type": "code",
   "execution_count": 40,
   "metadata": {},
   "outputs": [],
   "source": [
    "#import necessary libraries\n",
    "import pandas as pd\n",
    "import mmh3\n",
    "import murmurhash\n",
    "from bitarray import bitarray\n",
    "import numpy as np\n",
    "import math"
   ]
  },
  {
   "cell_type": "code",
   "execution_count": 41,
   "metadata": {},
   "outputs": [
    {
     "data": {
      "text/html": [
       "<div>\n",
       "<style scoped>\n",
       "    .dataframe tbody tr th:only-of-type {\n",
       "        vertical-align: middle;\n",
       "    }\n",
       "\n",
       "    .dataframe tbody tr th {\n",
       "        vertical-align: top;\n",
       "    }\n",
       "\n",
       "    .dataframe thead th {\n",
       "        text-align: right;\n",
       "    }\n",
       "</style>\n",
       "<table border=\"1\" class=\"dataframe\">\n",
       "  <thead>\n",
       "    <tr style=\"text-align: right;\">\n",
       "      <th></th>\n",
       "      <th>Date</th>\n",
       "      <th>Start</th>\n",
       "      <th>Duration</th>\n",
       "      <th>Protocol</th>\n",
       "      <th>Source_IP</th>\n",
       "      <th>Destination_IP</th>\n",
       "      <th>Flags</th>\n",
       "      <th>Tos</th>\n",
       "      <th>Packets</th>\n",
       "      <th>Bytes</th>\n",
       "      <th>Flows</th>\n",
       "      <th>Label</th>\n",
       "    </tr>\n",
       "  </thead>\n",
       "  <tbody>\n",
       "    <tr>\n",
       "      <th>0</th>\n",
       "      <td>2011-08-11</td>\n",
       "      <td>10:10:00.003</td>\n",
       "      <td>0.967</td>\n",
       "      <td>UDP</td>\n",
       "      <td>89.31.8.11</td>\n",
       "      <td>147.32.84.229</td>\n",
       "      <td>INT</td>\n",
       "      <td>0</td>\n",
       "      <td>2</td>\n",
       "      <td>135</td>\n",
       "      <td>1</td>\n",
       "      <td>Background</td>\n",
       "    </tr>\n",
       "    <tr>\n",
       "      <th>1</th>\n",
       "      <td>2011-08-11</td>\n",
       "      <td>10:10:00.003</td>\n",
       "      <td>0.967</td>\n",
       "      <td>UDP</td>\n",
       "      <td>147.32.84.229</td>\n",
       "      <td>89.31.8.11</td>\n",
       "      <td>INT</td>\n",
       "      <td>0</td>\n",
       "      <td>2</td>\n",
       "      <td>276</td>\n",
       "      <td>1</td>\n",
       "      <td>Background</td>\n",
       "    </tr>\n",
       "    <tr>\n",
       "      <th>2</th>\n",
       "      <td>2011-08-11</td>\n",
       "      <td>10:10:00.006</td>\n",
       "      <td>0.000</td>\n",
       "      <td>UDP</td>\n",
       "      <td>208.88.186.6</td>\n",
       "      <td>147.32.84.229</td>\n",
       "      <td>INT</td>\n",
       "      <td>0</td>\n",
       "      <td>1</td>\n",
       "      <td>62</td>\n",
       "      <td>1</td>\n",
       "      <td>Background</td>\n",
       "    </tr>\n",
       "    <tr>\n",
       "      <th>3</th>\n",
       "      <td>2011-08-11</td>\n",
       "      <td>10:10:00.008</td>\n",
       "      <td>0.000</td>\n",
       "      <td>UDP</td>\n",
       "      <td>92.118.218.77</td>\n",
       "      <td>147.32.84.229</td>\n",
       "      <td>INT</td>\n",
       "      <td>0</td>\n",
       "      <td>1</td>\n",
       "      <td>78</td>\n",
       "      <td>1</td>\n",
       "      <td>Background</td>\n",
       "    </tr>\n",
       "    <tr>\n",
       "      <th>4</th>\n",
       "      <td>2011-08-11</td>\n",
       "      <td>10:10:00.009</td>\n",
       "      <td>0.000</td>\n",
       "      <td>UDP</td>\n",
       "      <td>182.185.139.181</td>\n",
       "      <td>147.32.84.229</td>\n",
       "      <td>INT</td>\n",
       "      <td>0</td>\n",
       "      <td>1</td>\n",
       "      <td>72</td>\n",
       "      <td>1</td>\n",
       "      <td>Background</td>\n",
       "    </tr>\n",
       "  </tbody>\n",
       "</table>\n",
       "</div>"
      ],
      "text/plain": [
       "         Date         Start  Duration Protocol        Source_IP  \\\n",
       "0  2011-08-11  10:10:00.003     0.967      UDP       89.31.8.11   \n",
       "1  2011-08-11  10:10:00.003     0.967      UDP    147.32.84.229   \n",
       "2  2011-08-11  10:10:00.006     0.000      UDP     208.88.186.6   \n",
       "3  2011-08-11  10:10:00.008     0.000      UDP    92.118.218.77   \n",
       "4  2011-08-11  10:10:00.009     0.000      UDP  182.185.139.181   \n",
       "\n",
       "  Destination_IP Flags  Tos  Packets  Bytes  Flows       Label  \n",
       "0  147.32.84.229   INT    0        2    135      1  Background  \n",
       "1     89.31.8.11   INT    0        2    276      1  Background  \n",
       "2  147.32.84.229   INT    0        1     62      1  Background  \n",
       "3  147.32.84.229   INT    0        1     78      1  Background  \n",
       "4  147.32.84.229   INT    0        1     72      1  Background  "
      ]
     },
     "execution_count": 41,
     "metadata": {},
     "output_type": "execute_result"
    }
   ],
   "source": [
    "#Read the dataset of CTU-13 malware 43\n",
    "dataset = pd.read_csv('dataset/capture20110811.pcap.netflow.labeled', delim_whitespace=True, chunksize=1000)\n",
    "first_chunk = dataset.get_chunk()\n",
    "\n",
    "# preprocess: clean up columns\n",
    "def preprocess(chunk):\n",
    "    chunk = chunk.rename(index=str, columns={\n",
    "        \"#Date_flow\": \"Date\",\n",
    "        \"start\": \"Start\",\n",
    "        \"Durat\": \"Duration\",\n",
    "        \"Prot\":\"Protocol\",\n",
    "        \"Src_IP_Addr:Port\" : \"Source_IP\",\n",
    "        \"Dst_IP_Addr:Port\": \"Destination_IP\",\n",
    "        \"Label(LEGITIMATE:Botnet:Background)\": \"Label\"})\n",
    "    chunk = chunk.drop(axis=\"columns\", labels=\"->\")\n",
    "    \n",
    "    chunk['Source_IP'] = chunk['Source_IP'].apply(lambda x: x.split(\":\")[0])\n",
    "    chunk['Destination_IP'] = chunk['Destination_IP'].apply(lambda x: x.split(\":\")[0])\n",
    "    return chunk\n",
    "\n",
    "first_chunk = preprocess(first_chunk)\n",
    "first_chunk.head()"
   ]
  },
  {
   "cell_type": "code",
   "execution_count": 42,
   "metadata": {},
   "outputs": [
    {
     "data": {
      "text/plain": [
       "406"
      ]
     },
     "execution_count": 42,
     "metadata": {},
     "output_type": "execute_result"
    }
   ],
   "source": [
    "len(first_chunk['Source_IP'].unique()) #406"
   ]
  },
  {
   "cell_type": "code",
   "execution_count": 43,
   "metadata": {},
   "outputs": [
    {
     "data": {
      "text/plain": [
       "1000"
      ]
     },
     "execution_count": 43,
     "metadata": {},
     "output_type": "execute_result"
    }
   ],
   "source": [
    "len(first_chunk['Source_IP'])#1000\n",
    "#first_chunk['Source_IP'] = '147.32.84.229';"
   ]
  },
  {
   "cell_type": "code",
   "execution_count": null,
   "metadata": {},
   "outputs": [],
   "source": [
    "#1. Initialize the 2D d x w array of counters\n",
    "# TO-DO: play around with this d and w (d=3 W=4; d=5 W=100;d=5 W=1000;d=5- W=100)\n",
    "d = 50; #rows - hash\n",
    "W = 100; #columns - ip\n",
    "CMS = [0] * d\n",
    "for i in range(d):\n",
    "    CMS[i] = [0] * W\n",
    "#print(CMS)\n",
    "# create a hash function to fill CMS with values\n",
    "# hash\n",
    "# CMS[0][1] =1;\n",
    "# print(CMS);"
   ]
  },
  {
   "cell_type": "code",
   "execution_count": null,
   "metadata": {
    "scrolled": true
   },
   "outputs": [
    {
     "name": "stdout",
     "output_type": "stream",
     "text": [
      "Processing chunk  0\n",
      "Processing chunk  1\n",
      "Processing chunk  2\n",
      "Processing chunk  3\n",
      "Processing chunk  4\n",
      "Processing chunk  5\n",
      "Processing chunk  6\n",
      "Processing chunk  7\n",
      "Processing chunk  8\n",
      "Processing chunk  9\n",
      "Processing chunk  10\n",
      "Processing chunk  11\n",
      "Processing chunk  12\n",
      "Processing chunk  13\n",
      "Processing chunk  14\n",
      "Processing chunk  15\n",
      "Processing chunk  16\n",
      "Processing chunk  17\n",
      "Processing chunk  18\n",
      "Processing chunk  19\n",
      "Processing chunk  20\n",
      "Processing chunk  21\n",
      "Processing chunk  22\n",
      "Processing chunk  23\n",
      "Processing chunk  24\n",
      "Processing chunk  25\n",
      "Processing chunk  26\n",
      "Processing chunk  27\n",
      "Processing chunk  28\n"
     ]
    }
   ],
   "source": [
    "# read through the stream\n",
    "# this code will take some time to read all the data, you can stop it in the middle and proceed to next code\n",
    "chunks = pd.read_csv('dataset/capture20110811.pcap.netflow.labeled', delim_whitespace=True, chunksize=1000)\n",
    "chunk_count = 0\n",
    "for chunk in chunks:\n",
    "    print(\"Processing chunk \",chunk_count)\n",
    "    chunk = preprocess(chunk)\n",
    "    for index, item in chunk.iterrows():\n",
    "        ip_address = item[\"Source_IP\"]\n",
    "        # apply d hash function to the IP address\n",
    "        for i in range(d):\n",
    "            j = mmh3.hash(ip_address, i) % W # we use modulo here so the resulting hash is less than W\n",
    "            # update the CMS matrix\n",
    "            CMS[i][j] = CMS[i][j] + 1\n",
    "        \n",
    "        # do the same for destination IP\n",
    "        ip_address = item[\"Destination_IP\"]\n",
    "        for i in range(d):\n",
    "            j = mmh3.hash(ip_address, i) % W # we use modulo here so the resulting hash is less than W\n",
    "            # update the CMS matrix\n",
    "            CMS[i][j] = CMS[i][j] + 1\n",
    "    chunk_count = chunk_count + 1"
   ]
  },
  {
   "cell_type": "code",
   "execution_count": null,
   "metadata": {},
   "outputs": [],
   "source": [
    "# read frequency of certain IP address\n",
    "\n",
    "# see the min-wise sampling task result of top 10 frequent IP\n",
    "ip_list = [\"147.32.84.229\", \"147.32.80.9\", \"147.32.84.138\", \"147.32.84.59\", \"147.32.86.165\", \"147.32.80.13\", \"147.32.85.25\", \"147.32.84.118\", \"147.32.84.165\", \"147.32.84.171\", \"147.32.85.124\"]\n",
    "\n",
    "for ip in ip_list:\n",
    "    count = None\n",
    "    for i in range(d):\n",
    "        j = mmh3.hash(ip, i) % W\n",
    "        if count is None:\n",
    "            count = CMS[i][j]\n",
    "        else:\n",
    "            count = min(count, CMS[i][j]) # we use the minimum of all value in the corresponding hash function\n",
    "\n",
    "    print(ip, \"\\t\", count)"
   ]
  },
  {
   "cell_type": "code",
   "execution_count": null,
   "metadata": {},
   "outputs": [],
   "source": []
  }
 ],
 "metadata": {
  "kernelspec": {
   "display_name": "Python 3",
   "language": "python",
   "name": "python3"
  },
  "language_info": {
   "codemirror_mode": {
    "name": "ipython",
    "version": 3
   },
   "file_extension": ".py",
   "mimetype": "text/x-python",
   "name": "python",
   "nbconvert_exporter": "python",
   "pygments_lexer": "ipython3",
   "version": "3.6.5"
  }
 },
 "nbformat": 4,
 "nbformat_minor": 2
}
