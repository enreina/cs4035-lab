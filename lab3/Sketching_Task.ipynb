{
 "cells": [
  {
   "cell_type": "markdown",
   "metadata": {},
   "source": [
    "### Task 2  SKETCHING TASK "
   ]
  },
  {
   "cell_type": "markdown",
   "metadata": {},
   "source": [
    "TO DO\n",
    "1. Build code for computing a Count-Min sketch,\n",
    "2. play with different heights and widths for the Count-Min sketch matrix. \n",
    "3. Compare it to the MIN_WISE sampling strategy. \n",
    "4. Is it more space-efficient/accurate? What about run-time? \n",
    "5. Use the theory to explain any differences you observe."
   ]
  },
  {
   "cell_type": "markdown",
   "metadata": {},
   "source": [
    "ALGORITHM: COUNT - MIN SKETCH\n",
    "\n",
    "count_min_sketch (over_count, return_minimum value, support subtraction)\n",
    "    1. Initialize the 2D d x w array of counters\n",
    "    2. Pick \"d\" hash functions for the i-th item\n",
    "    3. For every hash in the hash function \n",
    "        counter of h(item) = counter of h(item) + 1\n",
    "    4. For any \"item\" \n",
    "        report the minimum value of the h(item) as the estimation of frequency\n",
    "    \n",
    "    \n",
    "item is ip_address\n",
    "h is hash function "
   ]
  },
  {
   "cell_type": "code",
   "execution_count": 8,
   "metadata": {},
   "outputs": [],
   "source": [
    "#import nexessary libraries\n",
    "\n",
    "import pandas as pd\n",
    "#from mmh3 import hash\n",
    "import murmurhash\n",
    "from bitarray import bitarray\n",
    "import numpy as np\n",
    "import math\n"
   ]
  },
  {
   "cell_type": "code",
   "execution_count": 9,
   "metadata": {
    "collapsed": true
   },
   "outputs": [
    {
     "data": {
      "text/html": [
       "<div>\n",
       "<style scoped>\n",
       "    .dataframe tbody tr th:only-of-type {\n",
       "        vertical-align: middle;\n",
       "    }\n",
       "\n",
       "    .dataframe tbody tr th {\n",
       "        vertical-align: top;\n",
       "    }\n",
       "\n",
       "    .dataframe thead th {\n",
       "        text-align: right;\n",
       "    }\n",
       "</style>\n",
       "<table border=\"1\" class=\"dataframe\">\n",
       "  <thead>\n",
       "    <tr style=\"text-align: right;\">\n",
       "      <th></th>\n",
       "      <th>Date</th>\n",
       "      <th>Start</th>\n",
       "      <th>Duration</th>\n",
       "      <th>Protocol</th>\n",
       "      <th>Source_IP</th>\n",
       "      <th>Destination_IP</th>\n",
       "      <th>Flags</th>\n",
       "      <th>Tos</th>\n",
       "      <th>Packets</th>\n",
       "      <th>Bytes</th>\n",
       "      <th>Flows</th>\n",
       "      <th>Label</th>\n",
       "    </tr>\n",
       "  </thead>\n",
       "  <tbody>\n",
       "    <tr>\n",
       "      <th>0</th>\n",
       "      <td>2011-08-11</td>\n",
       "      <td>10:10:00.003</td>\n",
       "      <td>0.967</td>\n",
       "      <td>UDP</td>\n",
       "      <td>89.31.8.11:23929</td>\n",
       "      <td>147.32.84.229:13363</td>\n",
       "      <td>INT</td>\n",
       "      <td>0</td>\n",
       "      <td>2</td>\n",
       "      <td>135</td>\n",
       "      <td>1</td>\n",
       "      <td>Background</td>\n",
       "    </tr>\n",
       "    <tr>\n",
       "      <th>1</th>\n",
       "      <td>2011-08-11</td>\n",
       "      <td>10:10:00.003</td>\n",
       "      <td>0.967</td>\n",
       "      <td>UDP</td>\n",
       "      <td>147.32.84.229:13363</td>\n",
       "      <td>89.31.8.11:23929</td>\n",
       "      <td>INT</td>\n",
       "      <td>0</td>\n",
       "      <td>2</td>\n",
       "      <td>276</td>\n",
       "      <td>1</td>\n",
       "      <td>Background</td>\n",
       "    </tr>\n",
       "    <tr>\n",
       "      <th>2</th>\n",
       "      <td>2011-08-11</td>\n",
       "      <td>10:10:00.006</td>\n",
       "      <td>0.000</td>\n",
       "      <td>UDP</td>\n",
       "      <td>208.88.186.6:34042</td>\n",
       "      <td>147.32.84.229:13363</td>\n",
       "      <td>INT</td>\n",
       "      <td>0</td>\n",
       "      <td>1</td>\n",
       "      <td>62</td>\n",
       "      <td>1</td>\n",
       "      <td>Background</td>\n",
       "    </tr>\n",
       "    <tr>\n",
       "      <th>3</th>\n",
       "      <td>2011-08-11</td>\n",
       "      <td>10:10:00.008</td>\n",
       "      <td>0.000</td>\n",
       "      <td>UDP</td>\n",
       "      <td>92.118.218.77:55246</td>\n",
       "      <td>147.32.84.229:13363</td>\n",
       "      <td>INT</td>\n",
       "      <td>0</td>\n",
       "      <td>1</td>\n",
       "      <td>78</td>\n",
       "      <td>1</td>\n",
       "      <td>Background</td>\n",
       "    </tr>\n",
       "    <tr>\n",
       "      <th>4</th>\n",
       "      <td>2011-08-11</td>\n",
       "      <td>10:10:00.009</td>\n",
       "      <td>0.000</td>\n",
       "      <td>UDP</td>\n",
       "      <td>182.185.139.181:10223</td>\n",
       "      <td>147.32.84.229:13363</td>\n",
       "      <td>INT</td>\n",
       "      <td>0</td>\n",
       "      <td>1</td>\n",
       "      <td>72</td>\n",
       "      <td>1</td>\n",
       "      <td>Background</td>\n",
       "    </tr>\n",
       "  </tbody>\n",
       "</table>\n",
       "</div>"
      ],
      "text/plain": [
       "         Date         Start  Duration Protocol              Source_IP  \\\n",
       "0  2011-08-11  10:10:00.003     0.967      UDP       89.31.8.11:23929   \n",
       "1  2011-08-11  10:10:00.003     0.967      UDP    147.32.84.229:13363   \n",
       "2  2011-08-11  10:10:00.006     0.000      UDP     208.88.186.6:34042   \n",
       "3  2011-08-11  10:10:00.008     0.000      UDP    92.118.218.77:55246   \n",
       "4  2011-08-11  10:10:00.009     0.000      UDP  182.185.139.181:10223   \n",
       "\n",
       "        Destination_IP Flags  Tos  Packets  Bytes  Flows       Label  \n",
       "0  147.32.84.229:13363   INT    0        2    135      1  Background  \n",
       "1     89.31.8.11:23929   INT    0        2    276      1  Background  \n",
       "2  147.32.84.229:13363   INT    0        1     62      1  Background  \n",
       "3  147.32.84.229:13363   INT    0        1     78      1  Background  \n",
       "4  147.32.84.229:13363   INT    0        1     72      1  Background  "
      ]
     },
     "execution_count": 9,
     "metadata": {},
     "output_type": "execute_result"
    }
   ],
   "source": [
    "#Read the dataset of CTU-13 malware 43\n",
    "dataset = pd.read_csv('dataset/capture20110811.pcap.netflow.labeled', delim_whitespace=True, chunksize=1000)\n",
    "first_chunk = dataset.get_chunk()\n",
    "# preprocess\n",
    "first_chunk = first_chunk.rename(index=str, columns={\n",
    "    \"#Date_flow\": \"Date\",\n",
    "    \"start\": \"Start\",\n",
    "    \"Durat\": \"Duration\",\n",
    "    \"Prot\":\"Protocol\",\n",
    "    \"Src_IP_Addr:Port\" : \"Source_IP\",\n",
    "    \"Dst_IP_Addr:Port\": \"Destination_IP\",\n",
    "    \"Label(LEGITIMATE:Botnet:Background)\": \"Label\"})\n",
    "first_chunk = first_chunk.drop(axis=\"columns\", labels=\"->\")\n",
    "first_chunk.head()"
   ]
  },
  {
   "cell_type": "code",
   "execution_count": 10,
   "metadata": {},
   "outputs": [
    {
     "data": {
      "text/plain": [
       "555"
      ]
     },
     "execution_count": 10,
     "metadata": {},
     "output_type": "execute_result"
    }
   ],
   "source": [
    "len(first_chunk['Source_IP'].unique()) #555"
   ]
  },
  {
   "cell_type": "code",
   "execution_count": 11,
   "metadata": {},
   "outputs": [
    {
     "data": {
      "text/plain": [
       "1000"
      ]
     },
     "execution_count": 11,
     "metadata": {},
     "output_type": "execute_result"
    }
   ],
   "source": [
    "len(first_chunk['Source_IP'])#1000"
   ]
  },
  {
   "cell_type": "markdown",
   "metadata": {},
   "source": [
    "#### may be use this to find a particular ip in a list\n",
    "aList = [123, 'xyz', 'zara', 'abc'];\n",
    "print \"Index for xyz : \", aList.index( 'xyz' ) \n",
    "print \"Index for zara : \", aList.index( 'zara' ) "
   ]
  },
  {
   "cell_type": "code",
   "execution_count": null,
   "metadata": {},
   "outputs": [],
   "source": [
    "d =  [];\n",
    "h = [];"
   ]
  },
  {
   "cell_type": "code",
   "execution_count": null,
   "metadata": {},
   "outputs": [],
   "source": []
  },
  {
   "cell_type": "code",
   "execution_count": null,
   "metadata": {},
   "outputs": [],
   "source": []
  },
  {
   "cell_type": "code",
   "execution_count": null,
   "metadata": {},
   "outputs": [],
   "source": []
  },
  {
   "cell_type": "code",
   "execution_count": null,
   "metadata": {},
   "outputs": [],
   "source": []
  }
 ],
 "metadata": {
  "kernelspec": {
   "display_name": "Python [conda env:py36]",
   "language": "python",
   "name": "conda-env-py36-py"
  },
  "language_info": {
   "codemirror_mode": {
    "name": "ipython",
    "version": 3
   },
   "file_extension": ".py",
   "mimetype": "text/x-python",
   "name": "python",
   "nbconvert_exporter": "python",
   "pygments_lexer": "ipython3",
   "version": "3.6.5"
  }
 },
 "nbformat": 4,
 "nbformat_minor": 2
}
