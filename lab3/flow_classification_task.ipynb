{
 "cells": [
  {
   "cell_type": "markdown",
   "metadata": {},
   "source": [
    "# Flow Classification Task\n",
    "This notebook will guide the process of how we do the Bonus Task of Lab 3. The overall outline of the process is as follows:\n",
    "\n",
    "1. Preprocessing\n",
    "2. Splitting the Training and Test Set\n",
    "3. Fitting a Random Forest Classifier to the Training Set\n",
    "4. Packet-Level Evaluation \n",
    "5. Host-Level Evaluation"
   ]
  },
  {
   "cell_type": "code",
   "execution_count": 1,
   "metadata": {},
   "outputs": [
    {
     "name": "stderr",
     "output_type": "stream",
     "text": [
      "/usr/local/lib/python3.6/site-packages/sklearn/cross_validation.py:41: DeprecationWarning: This module was deprecated in version 0.18 in favor of the model_selection module into which all the refactored classes and functions are moved. Also note that the interface of the new CV iterators are different from that of this module. This module will be removed in 0.20.\n",
      "  \"This module will be removed in 0.20.\", DeprecationWarning)\n"
     ]
    }
   ],
   "source": [
    "# import necessary modules\n",
    "import pandas as pd\n",
    "import numpy as np\n",
    "from sklearn.ensemble import RandomForestClassifier\n",
    "from sklearn.preprocessing import LabelEncoder\n",
    "from sklearn.cross_validation import train_test_split\n",
    "from sklearn.metrics import roc_curve, roc_auc_score, recall_score, precision_score, auc, precision_recall_curve, accuracy_score, f1_score, confusion_matrix, average_precision_score\n",
    "from sklearn.metrics import confusion_matrix"
   ]
  },
  {
   "cell_type": "markdown",
   "metadata": {},
   "source": [
    "## 1. Preprocessing\n",
    "For the preprocessing start, we apply similar preprocessing from the other tasks: renaming columns, converting the \"Start\" feature to datetime, and splitting the IP and Port information from Source IP and Destination IP"
   ]
  },
  {
   "cell_type": "code",
   "execution_count": 2,
   "metadata": {},
   "outputs": [
    {
     "data": {
      "text/html": [
       "<div>\n",
       "<style scoped>\n",
       "    .dataframe tbody tr th:only-of-type {\n",
       "        vertical-align: middle;\n",
       "    }\n",
       "\n",
       "    .dataframe tbody tr th {\n",
       "        vertical-align: top;\n",
       "    }\n",
       "\n",
       "    .dataframe thead th {\n",
       "        text-align: right;\n",
       "    }\n",
       "</style>\n",
       "<table border=\"1\" class=\"dataframe\">\n",
       "  <thead>\n",
       "    <tr style=\"text-align: right;\">\n",
       "      <th></th>\n",
       "      <th>Date</th>\n",
       "      <th>Start</th>\n",
       "      <th>Duration</th>\n",
       "      <th>Protocol</th>\n",
       "      <th>Source_IP</th>\n",
       "      <th>-&gt;</th>\n",
       "      <th>Destination_IP</th>\n",
       "      <th>Flags</th>\n",
       "      <th>Tos</th>\n",
       "      <th>Packets</th>\n",
       "      <th>Bytes</th>\n",
       "      <th>Flows</th>\n",
       "      <th>Label</th>\n",
       "      <th>Source_Port</th>\n",
       "      <th>Destination_Port</th>\n",
       "    </tr>\n",
       "  </thead>\n",
       "  <tbody>\n",
       "    <tr>\n",
       "      <th>0</th>\n",
       "      <td>2011-08-18</td>\n",
       "      <td>2011-08-18 10:19:13.328</td>\n",
       "      <td>0.002</td>\n",
       "      <td>TCP</td>\n",
       "      <td>147.32.86.166</td>\n",
       "      <td>-&gt;</td>\n",
       "      <td>212.24.150.110</td>\n",
       "      <td>FRPA_</td>\n",
       "      <td>0</td>\n",
       "      <td>4</td>\n",
       "      <td>321</td>\n",
       "      <td>1</td>\n",
       "      <td>Background</td>\n",
       "      <td>33426</td>\n",
       "      <td>25443</td>\n",
       "    </tr>\n",
       "    <tr>\n",
       "      <th>1</th>\n",
       "      <td>2011-08-18</td>\n",
       "      <td>2011-08-18 10:19:13.328</td>\n",
       "      <td>4.995</td>\n",
       "      <td>UDP</td>\n",
       "      <td>82.39.2.249</td>\n",
       "      <td>-&gt;</td>\n",
       "      <td>147.32.84.59</td>\n",
       "      <td>INT</td>\n",
       "      <td>0</td>\n",
       "      <td>617</td>\n",
       "      <td>40095</td>\n",
       "      <td>1</td>\n",
       "      <td>Background</td>\n",
       "      <td>41915</td>\n",
       "      <td>43087</td>\n",
       "    </tr>\n",
       "    <tr>\n",
       "      <th>2</th>\n",
       "      <td>2011-08-18</td>\n",
       "      <td>2011-08-18 10:19:13.329</td>\n",
       "      <td>4.996</td>\n",
       "      <td>UDP</td>\n",
       "      <td>147.32.84.59</td>\n",
       "      <td>-&gt;</td>\n",
       "      <td>82.39.2.249</td>\n",
       "      <td>INT</td>\n",
       "      <td>0</td>\n",
       "      <td>1290</td>\n",
       "      <td>1909200</td>\n",
       "      <td>1</td>\n",
       "      <td>Background</td>\n",
       "      <td>43087</td>\n",
       "      <td>41915</td>\n",
       "    </tr>\n",
       "    <tr>\n",
       "      <th>3</th>\n",
       "      <td>2011-08-18</td>\n",
       "      <td>2011-08-18 10:19:13.330</td>\n",
       "      <td>0.000</td>\n",
       "      <td>TCP</td>\n",
       "      <td>147.32.86.166</td>\n",
       "      <td>-&gt;</td>\n",
       "      <td>147.32.192.34</td>\n",
       "      <td>A_</td>\n",
       "      <td>0</td>\n",
       "      <td>1</td>\n",
       "      <td>66</td>\n",
       "      <td>1</td>\n",
       "      <td>Background</td>\n",
       "      <td>42020</td>\n",
       "      <td>993</td>\n",
       "    </tr>\n",
       "    <tr>\n",
       "      <th>4</th>\n",
       "      <td>2011-08-18</td>\n",
       "      <td>2011-08-18 10:19:13.330</td>\n",
       "      <td>0.000</td>\n",
       "      <td>TCP</td>\n",
       "      <td>212.24.150.110</td>\n",
       "      <td>-&gt;</td>\n",
       "      <td>147.32.86.166</td>\n",
       "      <td>FPA_</td>\n",
       "      <td>0</td>\n",
       "      <td>2</td>\n",
       "      <td>169</td>\n",
       "      <td>1</td>\n",
       "      <td>Background</td>\n",
       "      <td>25443</td>\n",
       "      <td>33426</td>\n",
       "    </tr>\n",
       "  </tbody>\n",
       "</table>\n",
       "</div>"
      ],
      "text/plain": [
       "         Date                   Start  Duration Protocol       Source_IP  ->  \\\n",
       "0  2011-08-18 2011-08-18 10:19:13.328     0.002      TCP   147.32.86.166  ->   \n",
       "1  2011-08-18 2011-08-18 10:19:13.328     4.995      UDP     82.39.2.249  ->   \n",
       "2  2011-08-18 2011-08-18 10:19:13.329     4.996      UDP    147.32.84.59  ->   \n",
       "3  2011-08-18 2011-08-18 10:19:13.330     0.000      TCP   147.32.86.166  ->   \n",
       "4  2011-08-18 2011-08-18 10:19:13.330     0.000      TCP  212.24.150.110  ->   \n",
       "\n",
       "   Destination_IP  Flags  Tos  Packets    Bytes  Flows       Label  \\\n",
       "0  212.24.150.110  FRPA_    0        4      321      1  Background   \n",
       "1    147.32.84.59    INT    0      617    40095      1  Background   \n",
       "2     82.39.2.249    INT    0     1290  1909200      1  Background   \n",
       "3   147.32.192.34     A_    0        1       66      1  Background   \n",
       "4   147.32.86.166   FPA_    0        2      169      1  Background   \n",
       "\n",
       "  Source_Port Destination_Port  \n",
       "0       33426            25443  \n",
       "1       41915            43087  \n",
       "2       43087            41915  \n",
       "3       42020              993  \n",
       "4       25443            33426  "
      ]
     },
     "execution_count": 2,
     "metadata": {},
     "output_type": "execute_result"
    }
   ],
   "source": [
    "# renaming columns\n",
    "dataset = pd.read_csv('dataset/capture-scenario10.pcap.netflow.labeled', delim_whitespace=True,skiprows=1,header=None)\n",
    "dataset.columns = [\"Date\",\"Start\",\"Duration\",\"Protocol\", \"Source_IP\",\"->\",\"Destination_IP\", \"Flags\",\"Tos\",\"Packets\"\n",
    "                            ,\"Bytes\", \"Flows\",\"Label\"]\n",
    "\n",
    "# convert to datetime\n",
    "dataset['Start'] = dataset['Date'] + ' ' + dataset['Start']\n",
    "dataset['Start'] = pd.to_datetime(dataset['Start'])\n",
    "\n",
    "# split port information\n",
    "dataset['Source_Port'] = dataset['Source_IP'].apply(lambda x: x.split(\":\")[1] if len(x.split(\":\")) > 1 else None)\n",
    "dataset['Source_IP'] = dataset['Source_IP'].apply(lambda x: x.split(\":\")[0])\n",
    "dataset['Destination_Port'] = dataset['Destination_IP'].apply(lambda x: x.split(\":\")[1] if len(x.split(\":\")) > 1 else None)\n",
    "dataset['Destination_IP'] = dataset['Destination_IP'].apply(lambda x: x.split(\":\")[0])\n",
    "\n",
    "dataset.head()"
   ]
  },
  {
   "cell_type": "markdown",
   "metadata": {},
   "source": [
    "As to make our classification binary, we remove the rows labeled with \"Background\" (so we only have \"Botnet\" and \"Legitimate\" rows)"
   ]
  },
  {
   "cell_type": "code",
   "execution_count": 3,
   "metadata": {},
   "outputs": [],
   "source": [
    "# remove background flows \n",
    "dataset = dataset[dataset['Label'] != 'Background']"
   ]
  },
  {
   "cell_type": "markdown",
   "metadata": {},
   "source": [
    "Then, we extract the following features: Duration, Protocol, Flags, Packets and Bytes. As Protocol and Flags are discrete values, we encode it to discrete number using sklearn's LabelEncoder."
   ]
  },
  {
   "cell_type": "code",
   "execution_count": 4,
   "metadata": {},
   "outputs": [],
   "source": [
    "# encode discrete features\n",
    "discrete_features = ['Protocol', 'Flags']\n",
    "dataset[discrete_features] = dataset[discrete_features].apply(LabelEncoder().fit_transform)\n",
    "\n",
    "# feature to be extracted\n",
    "features = ['Duration', 'Protocol', 'Flags', 'Packets', 'Bytes']\n",
    "\n",
    "# extracting features and separating the labels\n",
    "X = dataset[features]\n",
    "y = dataset['Label'].values"
   ]
  },
  {
   "cell_type": "markdown",
   "metadata": {},
   "source": [
    "## 2. Split into training set and test set\n",
    "We split the training set and test set with 60:40 ratio. As the resulting label distribution is balanced for both the training and test set, we did not employ any balancing technique."
   ]
  },
  {
   "cell_type": "code",
   "execution_count": 5,
   "metadata": {},
   "outputs": [
    {
     "name": "stdout",
     "output_type": "stream",
     "text": [
      "Training Data\n",
      "Botnet:  194065\n",
      "Legitimate:  193149\n",
      "Test Data\n",
      "Botnet:  129376\n",
      "Legitimate:  128768\n"
     ]
    }
   ],
   "source": [
    "X_train, X_test, y_train, y_test = train_test_split(X, y, test_size=0.40, random_state=42)\n",
    "print(\"Training Data\")\n",
    "print(\"Botnet: \", len([label for label in y_train if label == \"Botnet\"]))\n",
    "print(\"Legitimate: \", len([label for label in y_train if label == \"LEGITIMATE\"]))\n",
    "    \n",
    "print(\"Test Data\")\n",
    "print(\"Botnet: \", len([label for label in y_test if label == \"Botnet\"]))\n",
    "print(\"Legitimate: \", len([label for label in y_test if label == \"LEGITIMATE\"]))"
   ]
  },
  {
   "cell_type": "markdown",
   "metadata": {},
   "source": [
    "## 3. Fitting a RandomForestClassifier\n",
    "We fit a Random Forest with default parameters (number of trees = 10 with no maximum depth for each tree) onto the training set."
   ]
  },
  {
   "cell_type": "code",
   "execution_count": 6,
   "metadata": {},
   "outputs": [],
   "source": [
    "# instantiate learning model\n",
    "clf = RandomForestClassifier() # default: n_estimators = 10, max_depth = None\n",
    "\n",
    "# fitting the model\n",
    "clf.fit(X_train, y_train)\n",
    "\n",
    "# predict the response\n",
    "pred = clf.predict(X_test)"
   ]
  },
  {
   "cell_type": "markdown",
   "metadata": {},
   "source": [
    "## 4. Packet-Level Evaluation\n",
    "We evaluate the classifier using the test set based on each row (packet)."
   ]
  },
  {
   "cell_type": "code",
   "execution_count": 7,
   "metadata": {},
   "outputs": [
    {
     "name": "stdout",
     "output_type": "stream",
     "text": [
      "Random Forest\n",
      "Precision:  0.9989165763813651\n",
      "Recall:  0.9905855800148404\n",
      "F1 Score:  0.9947336352664035\n",
      "Accuracy:  0.9947432440808232\n"
     ]
    }
   ],
   "source": [
    "# evaluate performance\n",
    "print(\"Random Forest\")\n",
    "print(\"Precision: \", precision_score(y_test, pred, pos_label=\"Botnet\"))\n",
    "print(\"Recall: \", recall_score(y_test, pred, pos_label=\"Botnet\"))\n",
    "print(\"F1 Score: \", f1_score(y_test, pred, pos_label=\"Botnet\"))\n",
    "print(\"Accuracy: \", accuracy_score(y_test, pred))"
   ]
  },
  {
   "cell_type": "code",
   "execution_count": 8,
   "metadata": {},
   "outputs": [
    {
     "name": "stdout",
     "output_type": "stream",
     "text": [
      "TP:  128158\n",
      "FP:  139\n",
      "TN:  128629\n",
      "FN:  1218\n"
     ]
    }
   ],
   "source": [
    "tn, fp, fn, tp = confusion_matrix(y_test, pred, labels=['LEGITIMATE','Botnet']).ravel()\n",
    "print(\"TP: \", tp)\n",
    "print(\"FP: \", fp)\n",
    "print(\"TN: \", tn)\n",
    "print(\"FN: \", fn)"
   ]
  },
  {
   "cell_type": "code",
   "execution_count": 9,
   "metadata": {},
   "outputs": [
    {
     "name": "stdout",
     "output_type": "stream",
     "text": [
      "['Duration', 'Protocol', 'Flags', 'Packets', 'Bytes']\n",
      "[0.04276232 0.71289616 0.06268871 0.11194954 0.06970327]\n"
     ]
    }
   ],
   "source": [
    "# feature importance\n",
    "print(features)\n",
    "print(clf.feature_importances_)"
   ]
  },
  {
   "cell_type": "markdown",
   "metadata": {},
   "source": [
    "## 5. Host-Level Evaluation\n",
    "This time, we evaluate based on known infected hosts and normal hosts (read https://mcfp.felk.cvut.cz/publicDatasets/CTU-Malware-Capture-Botnet-51/README.html#ip-addresses). The metric is accounted with the following criteria:\n",
    "\n",
    "* TP: A True Positive is accounted when there is at least one packet, whose Source_IP is one of the known infected hosts, detected as Botnet\n",
    "* TN: A True Negative is accounted when there is no packet, whose Source_IP is one of the known normal hosts  , detected as Botnet\n",
    "* FP: A False possitive is accounted when there is at least one packet, whose Source_IP is one of the known normal hosts, detected as Botnet\n",
    "* FN: A False negative is accounted when there is no packet, whose Source_IP is one of the known infected hosts, detected as Botnet"
   ]
  },
  {
   "cell_type": "code",
   "execution_count": 10,
   "metadata": {},
   "outputs": [
    {
     "data": {
      "text/html": [
       "<div>\n",
       "<style scoped>\n",
       "    .dataframe tbody tr th:only-of-type {\n",
       "        vertical-align: middle;\n",
       "    }\n",
       "\n",
       "    .dataframe tbody tr th {\n",
       "        vertical-align: top;\n",
       "    }\n",
       "\n",
       "    .dataframe thead th {\n",
       "        text-align: right;\n",
       "    }\n",
       "</style>\n",
       "<table border=\"1\" class=\"dataframe\">\n",
       "  <thead>\n",
       "    <tr style=\"text-align: right;\">\n",
       "      <th></th>\n",
       "      <th>Duration</th>\n",
       "      <th>Protocol</th>\n",
       "      <th>Flags</th>\n",
       "      <th>Packets</th>\n",
       "      <th>Bytes</th>\n",
       "      <th>Pred_Label</th>\n",
       "      <th>True_Label</th>\n",
       "      <th>Source_IP</th>\n",
       "    </tr>\n",
       "  </thead>\n",
       "  <tbody>\n",
       "    <tr>\n",
       "      <th>2080251</th>\n",
       "      <td>0.000</td>\n",
       "      <td>0</td>\n",
       "      <td>57</td>\n",
       "      <td>1</td>\n",
       "      <td>1066</td>\n",
       "      <td>Botnet</td>\n",
       "      <td>Botnet</td>\n",
       "      <td>147.32.84.208</td>\n",
       "    </tr>\n",
       "    <tr>\n",
       "      <th>4002973</th>\n",
       "      <td>4.996</td>\n",
       "      <td>2</td>\n",
       "      <td>18</td>\n",
       "      <td>500</td>\n",
       "      <td>468705</td>\n",
       "      <td>Botnet</td>\n",
       "      <td>Botnet</td>\n",
       "      <td>147.32.84.209</td>\n",
       "    </tr>\n",
       "    <tr>\n",
       "      <th>4805991</th>\n",
       "      <td>0.000</td>\n",
       "      <td>0</td>\n",
       "      <td>5</td>\n",
       "      <td>1</td>\n",
       "      <td>1066</td>\n",
       "      <td>Botnet</td>\n",
       "      <td>Botnet</td>\n",
       "      <td>147.32.84.205</td>\n",
       "    </tr>\n",
       "    <tr>\n",
       "      <th>620518</th>\n",
       "      <td>0.263</td>\n",
       "      <td>1</td>\n",
       "      <td>32</td>\n",
       "      <td>4</td>\n",
       "      <td>2519</td>\n",
       "      <td>LEGITIMATE</td>\n",
       "      <td>LEGITIMATE</td>\n",
       "      <td>147.32.84.25</td>\n",
       "    </tr>\n",
       "    <tr>\n",
       "      <th>1959757</th>\n",
       "      <td>0.000</td>\n",
       "      <td>0</td>\n",
       "      <td>57</td>\n",
       "      <td>1</td>\n",
       "      <td>1066</td>\n",
       "      <td>Botnet</td>\n",
       "      <td>Botnet</td>\n",
       "      <td>147.32.84.207</td>\n",
       "    </tr>\n",
       "  </tbody>\n",
       "</table>\n",
       "</div>"
      ],
      "text/plain": [
       "         Duration  Protocol  Flags  Packets   Bytes  Pred_Label  True_Label  \\\n",
       "2080251     0.000         0     57        1    1066      Botnet      Botnet   \n",
       "4002973     4.996         2     18      500  468705      Botnet      Botnet   \n",
       "4805991     0.000         0      5        1    1066      Botnet      Botnet   \n",
       "620518      0.263         1     32        4    2519  LEGITIMATE  LEGITIMATE   \n",
       "1959757     0.000         0     57        1    1066      Botnet      Botnet   \n",
       "\n",
       "             Source_IP  \n",
       "2080251  147.32.84.208  \n",
       "4002973  147.32.84.209  \n",
       "4805991  147.32.84.205  \n",
       "620518    147.32.84.25  \n",
       "1959757  147.32.84.207  "
      ]
     },
     "execution_count": 10,
     "metadata": {},
     "output_type": "execute_result"
    }
   ],
   "source": [
    "temp = X_test.copy()\n",
    "temp[\"Pred_Label\"] = pred\n",
    "temp[\"True_Label\"] = y_test\n",
    "temp[\"Source_IP\"] = dataset[\"Source_IP\"]\n",
    "temp.head()"
   ]
  },
  {
   "cell_type": "code",
   "execution_count": 11,
   "metadata": {},
   "outputs": [],
   "source": [
    "infected_hosts = [\"147.32.84.165\", \"147.32.84.191\", \"147.32.84.192\", \"147.32.84.193\", \"147.32.84.204\", \"147.32.84.205\", \"147.32.84.206\", \"147.32.84.207\", \"147.32.84.208\", \"147.32.84.209\"]\n",
    "normal_hosts = [\"147.32.84.170\", \"147.32.84.134\", \"147.32.84.164\", \"147.32.87.36\", \"147.32.80.9\"]"
   ]
  },
  {
   "cell_type": "code",
   "execution_count": 12,
   "metadata": {},
   "outputs": [
    {
     "name": "stdout",
     "output_type": "stream",
     "text": [
      "TP: 10\n",
      "FP: 4\n",
      "TN: 1\n",
      "FN: 0\n"
     ]
    }
   ],
   "source": [
    "TP,FP,TN,FN = 0,0,0,0\n",
    "\n",
    "for host in infected_hosts:\n",
    "    if not temp[(temp[\"Source_IP\"] == host) & (temp[\"Pred_Label\"] == \"Botnet\")].empty:\n",
    "        TP = TP + 1    \n",
    "    else:\n",
    "        FN = FN + 1\n",
    "\n",
    "for host in normal_hosts:\n",
    "    if temp[(temp[\"Source_IP\"] == host) & (temp[\"Pred_Label\"] == \"Botnet\")].empty:\n",
    "        TN = TN + 1 \n",
    "    else:\n",
    "        FP = FP + 1 \n",
    "\n",
    "print(\"TP:\",TP)\n",
    "print(\"FP:\",FP)\n",
    "print(\"TN:\",TN)\n",
    "print(\"FN:\",FN)"
   ]
  }
 ],
 "metadata": {
  "kernelspec": {
   "display_name": "Python 3",
   "language": "python",
   "name": "python3"
  },
  "language_info": {
   "codemirror_mode": {
    "name": "ipython",
    "version": 3
   },
   "file_extension": ".py",
   "mimetype": "text/x-python",
   "name": "python",
   "nbconvert_exporter": "python",
   "pygments_lexer": "ipython3",
   "version": "3.6.5"
  }
 },
 "nbformat": 4,
 "nbformat_minor": 2
}
