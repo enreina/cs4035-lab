{
 "cells": [
  {
   "cell_type": "code",
   "execution_count": 15,
   "metadata": {},
   "outputs": [],
   "source": [
    "import pandas as pd"
   ]
  },
  {
   "cell_type": "markdown",
   "metadata": {},
   "source": [
    "Let's read the dataset in chunks. You need to download the dataset from here https://mcfp.felk.cvut.cz/publicDatasets/CTU-Malware-Capture-Botnet-43/capture20110811.pcap.netflow.labeled and put it in the `dataset` folder"
   ]
  },
  {
   "cell_type": "code",
   "execution_count": 39,
   "metadata": {},
   "outputs": [],
   "source": [
    "# read in 100 chunk size\n",
    "dataset = pd.read_csv('dataset/capture20110811.pcap.netflow.labeled', delim_whitespace=True, chunksize=1000)"
   ]
  },
  {
   "cell_type": "code",
   "execution_count": 40,
   "metadata": {},
   "outputs": [],
   "source": [
    "first_chunk = dataset.get_chunk()"
   ]
  },
  {
   "cell_type": "code",
   "execution_count": 41,
   "metadata": {},
   "outputs": [
    {
     "data": {
      "text/html": [
       "<div>\n",
       "<style scoped>\n",
       "    .dataframe tbody tr th:only-of-type {\n",
       "        vertical-align: middle;\n",
       "    }\n",
       "\n",
       "    .dataframe tbody tr th {\n",
       "        vertical-align: top;\n",
       "    }\n",
       "\n",
       "    .dataframe thead th {\n",
       "        text-align: right;\n",
       "    }\n",
       "</style>\n",
       "<table border=\"1\" class=\"dataframe\">\n",
       "  <thead>\n",
       "    <tr style=\"text-align: right;\">\n",
       "      <th></th>\n",
       "      <th>Date</th>\n",
       "      <th>Start</th>\n",
       "      <th>Duration</th>\n",
       "      <th>Protocol</th>\n",
       "      <th>Source_IP</th>\n",
       "      <th>Destination_IP</th>\n",
       "      <th>Flags</th>\n",
       "      <th>Tos</th>\n",
       "      <th>Packets</th>\n",
       "      <th>Bytes</th>\n",
       "      <th>Flows</th>\n",
       "      <th>Label</th>\n",
       "    </tr>\n",
       "  </thead>\n",
       "  <tbody>\n",
       "    <tr>\n",
       "      <th>0</th>\n",
       "      <td>2011-08-11</td>\n",
       "      <td>10:10:00.003</td>\n",
       "      <td>0.967</td>\n",
       "      <td>UDP</td>\n",
       "      <td>89.31.8.11:23929</td>\n",
       "      <td>147.32.84.229:13363</td>\n",
       "      <td>INT</td>\n",
       "      <td>0</td>\n",
       "      <td>2</td>\n",
       "      <td>135</td>\n",
       "      <td>1</td>\n",
       "      <td>Background</td>\n",
       "    </tr>\n",
       "    <tr>\n",
       "      <th>1</th>\n",
       "      <td>2011-08-11</td>\n",
       "      <td>10:10:00.003</td>\n",
       "      <td>0.967</td>\n",
       "      <td>UDP</td>\n",
       "      <td>147.32.84.229:13363</td>\n",
       "      <td>89.31.8.11:23929</td>\n",
       "      <td>INT</td>\n",
       "      <td>0</td>\n",
       "      <td>2</td>\n",
       "      <td>276</td>\n",
       "      <td>1</td>\n",
       "      <td>Background</td>\n",
       "    </tr>\n",
       "    <tr>\n",
       "      <th>2</th>\n",
       "      <td>2011-08-11</td>\n",
       "      <td>10:10:00.006</td>\n",
       "      <td>0.000</td>\n",
       "      <td>UDP</td>\n",
       "      <td>208.88.186.6:34042</td>\n",
       "      <td>147.32.84.229:13363</td>\n",
       "      <td>INT</td>\n",
       "      <td>0</td>\n",
       "      <td>1</td>\n",
       "      <td>62</td>\n",
       "      <td>1</td>\n",
       "      <td>Background</td>\n",
       "    </tr>\n",
       "    <tr>\n",
       "      <th>3</th>\n",
       "      <td>2011-08-11</td>\n",
       "      <td>10:10:00.008</td>\n",
       "      <td>0.000</td>\n",
       "      <td>UDP</td>\n",
       "      <td>92.118.218.77:55246</td>\n",
       "      <td>147.32.84.229:13363</td>\n",
       "      <td>INT</td>\n",
       "      <td>0</td>\n",
       "      <td>1</td>\n",
       "      <td>78</td>\n",
       "      <td>1</td>\n",
       "      <td>Background</td>\n",
       "    </tr>\n",
       "    <tr>\n",
       "      <th>4</th>\n",
       "      <td>2011-08-11</td>\n",
       "      <td>10:10:00.009</td>\n",
       "      <td>0.000</td>\n",
       "      <td>UDP</td>\n",
       "      <td>182.185.139.181:10223</td>\n",
       "      <td>147.32.84.229:13363</td>\n",
       "      <td>INT</td>\n",
       "      <td>0</td>\n",
       "      <td>1</td>\n",
       "      <td>72</td>\n",
       "      <td>1</td>\n",
       "      <td>Background</td>\n",
       "    </tr>\n",
       "  </tbody>\n",
       "</table>\n",
       "</div>"
      ],
      "text/plain": [
       "         Date         Start  Duration Protocol              Source_IP  \\\n",
       "0  2011-08-11  10:10:00.003     0.967      UDP       89.31.8.11:23929   \n",
       "1  2011-08-11  10:10:00.003     0.967      UDP    147.32.84.229:13363   \n",
       "2  2011-08-11  10:10:00.006     0.000      UDP     208.88.186.6:34042   \n",
       "3  2011-08-11  10:10:00.008     0.000      UDP    92.118.218.77:55246   \n",
       "4  2011-08-11  10:10:00.009     0.000      UDP  182.185.139.181:10223   \n",
       "\n",
       "        Destination_IP Flags  Tos  Packets  Bytes  Flows       Label  \n",
       "0  147.32.84.229:13363   INT    0        2    135      1  Background  \n",
       "1     89.31.8.11:23929   INT    0        2    276      1  Background  \n",
       "2  147.32.84.229:13363   INT    0        1     62      1  Background  \n",
       "3  147.32.84.229:13363   INT    0        1     78      1  Background  \n",
       "4  147.32.84.229:13363   INT    0        1     72      1  Background  "
      ]
     },
     "execution_count": 41,
     "metadata": {},
     "output_type": "execute_result"
    }
   ],
   "source": [
    "# preprocess\n",
    "first_chunk = first_chunk.rename(index=str, columns={\n",
    "    \"#Date_flow\": \"Date\",\n",
    "    \"start\": \"Start\",\n",
    "    \"Durat\": \"Duration\",\n",
    "    \"Prot\":\"Protocol\",\n",
    "    \"Src_IP_Addr:Port\" : \"Source_IP\",\n",
    "    \"Dst_IP_Addr:Port\": \"Destination_IP\",\n",
    "    \"Label(LEGITIMATE:Botnet:Background)\": \"Label\"})\n",
    "first_chunk = first_chunk.drop(axis=\"columns\", labels=\"->\")\n",
    "first_chunk.head()"
   ]
  },
  {
   "cell_type": "markdown",
   "metadata": {},
   "source": [
    "We can see from the rows that the host IP address from which the network flows were captured is `147.32.84.229`"
   ]
  },
  {
   "cell_type": "code",
   "execution_count": null,
   "metadata": {},
   "outputs": [],
   "source": []
  }
 ],
 "metadata": {
  "kernelspec": {
   "display_name": "Python 3",
   "language": "python",
   "name": "python3"
  },
  "language_info": {
   "codemirror_mode": {
    "name": "ipython",
    "version": 3
   },
   "file_extension": ".py",
   "mimetype": "text/x-python",
   "name": "python",
   "nbconvert_exporter": "python",
   "pygments_lexer": "ipython3",
   "version": "3.6.5"
  }
 },
 "nbformat": 4,
 "nbformat_minor": 2
}
