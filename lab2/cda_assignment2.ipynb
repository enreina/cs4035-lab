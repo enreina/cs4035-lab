{
 "cells": [
  {
   "cell_type": "markdown",
   "metadata": {},
   "source": [
    "# PCA Task\n",
    "### Let us start the PCA task on the BATAdal dataset.\n",
    "#### Step 0: Reading the both the data sets (BATADAL_dataset03, 04) using read_csv and explore the column names and data\n",
    "#### Step 1: Normalize the training dataset\n",
    "#### Step 2: Apply PCA analysis on training data\n",
    "#### Step 3: Tune the threshold  \n",
    "#### Step 4: Apply the same normalization and PCA transform on the test data\n",
    "\n"
   ]
  },
  {
   "cell_type": "markdown",
   "metadata": {},
   "source": [
    "#### Step 0: Reading the both the data sets (BATADAL_dataset03, 04) using read_csv and explore the column names and data"
   ]
  },
  {
   "cell_type": "code",
   "execution_count": 8,
   "metadata": {
    "scrolled": true
   },
   "outputs": [
    {
     "name": "stdout",
     "output_type": "stream",
     "text": [
      "BATADAL_dataset03.csv\n",
      "      DATETIME      L_T1      L_T2      L_T3      L_T4      L_T5      L_T6  \\\n",
      "0  06/01/14 00  0.509730  2.049003  3.191145  2.792634  2.656091  5.316831   \n",
      "1  06/01/14 01  0.412580  2.009072  3.642565  2.831673  3.126387  5.494855   \n",
      "2  06/01/14 02  0.320112  1.986093  4.140192  3.256733  3.574601  5.500000   \n",
      "3  06/01/14 03  0.332879  2.009203  4.673478  3.744497  3.952379  5.500000   \n",
      "4  06/01/14 04  0.483496  2.089049  5.237937  4.409456  3.504676  5.500000   \n",
      "\n",
      "       L_T7      F_PU1  S_PU1    ...        P_J256     P_J289     P_J415  \\\n",
      "0  1.562321  98.998444      1    ...     87.605774  26.495605  84.206619   \n",
      "1  1.852043  99.095901      1    ...     89.448341  26.487326  85.900085   \n",
      "2  2.246126  98.420959      1    ...     91.056114  26.487364  86.582474   \n",
      "3  3.203573  97.575172      1    ...     92.594353  26.575815  88.020546   \n",
      "4  4.439714  97.351059      1    ...     94.473099  26.723457  90.422462   \n",
      "\n",
      "      P_J302     P_J306     P_J307     P_J317      P_J14     P_J422  ATT_FLAG  \n",
      "0  18.901676  81.983734  18.791777  67.125603  29.387470  28.487471         0  \n",
      "1  18.849329  82.150589  18.739643  67.178696  29.354256  28.454256         0  \n",
      "2  19.597170  83.988579  19.496712  72.425293  29.354538  28.454538         0  \n",
      "3  26.028486  64.670486  25.922703  76.275040  29.449951  28.549952         0  \n",
      "4  26.209970  64.746620  26.104692  76.703529  29.574265  28.674263         0  \n",
      "\n",
      "[5 rows x 45 columns]\n",
      "Index(['DATETIME', 'L_T1', 'L_T2', 'L_T3', 'L_T4', 'L_T5', 'L_T6', 'L_T7',\n",
      "       'F_PU1', 'S_PU1', 'F_PU2', 'S_PU2', 'F_PU3', 'S_PU3', 'F_PU4', 'S_PU4',\n",
      "       'F_PU5', 'S_PU5', 'F_PU6', 'S_PU6', 'F_PU7', 'S_PU7', 'F_PU8', 'S_PU8',\n",
      "       'F_PU9', 'S_PU9', 'F_PU10', 'S_PU10', 'F_PU11', 'S_PU11', 'F_V2',\n",
      "       'S_V2', 'P_J280', 'P_J269', 'P_J300', 'P_J256', 'P_J289', 'P_J415',\n",
      "       'P_J302', 'P_J306', 'P_J307', 'P_J317', 'P_J14', 'P_J422', 'ATT_FLAG'],\n",
      "      dtype='object')\n",
      "BATADAL_dataset04.csv\n",
      "      DATETIME   L_T1   L_T2   L_T3   L_T4   L_T5   L_T6   L_T7   F_PU1  \\\n",
      "0  04/07/16 00   2.44   5.24   3.19   4.10   2.86   5.50   4.39   93.63   \n",
      "1  04/07/16 01   2.66   4.53   3.20   4.18   3.29   5.44   4.53   89.41   \n",
      "2  04/07/16 02   3.11   3.66   3.66   4.21   3.87   5.15   3.22   89.88   \n",
      "3  04/07/16 03   3.62   3.04   4.17   4.04   3.56   4.98   2.40   88.10   \n",
      "4  04/07/16 04   4.08   2.68   4.73   3.20   3.11   5.39   3.46   87.01   \n",
      "\n",
      "    S_PU1    ...       P_J256   P_J289   P_J415   P_J302   P_J306   P_J307  \\\n",
      "0     1.0    ...        70.00    28.22    85.87    21.69    82.72    21.58   \n",
      "1     1.0    ...        87.73    24.45    84.87    29.81    86.62    29.81   \n",
      "2     1.0    ...        89.29    23.90    87.11    29.85    87.64    29.85   \n",
      "3     1.0    ...        91.98    27.10    68.75    31.60    64.25    31.47   \n",
      "4     1.0    ...        92.11    26.76    68.74    32.30    64.23    32.17   \n",
      "\n",
      "    P_J317   P_J14   P_J422   ATT_FLAG  \n",
      "0    71.99   39.33    29.64       -999  \n",
      "1    59.76   42.17    26.15       -999  \n",
      "2    58.50   42.00    25.56       -999  \n",
      "3    72.30   43.24    28.38       -999  \n",
      "4    72.53   44.00    28.04       -999  \n",
      "\n",
      "[5 rows x 45 columns]\n",
      "Index(['DATETIME', ' L_T1', ' L_T2', ' L_T3', ' L_T4', ' L_T5', ' L_T6',\n",
      "       ' L_T7', ' F_PU1', ' S_PU1', ' F_PU2', ' S_PU2', ' F_PU3', ' S_PU3',\n",
      "       ' F_PU4', ' S_PU4', ' F_PU5', ' S_PU5', ' F_PU6', ' S_PU6', ' F_PU7',\n",
      "       ' S_PU7', ' F_PU8', ' S_PU8', ' F_PU9', ' S_PU9', ' F_PU10', ' S_PU10',\n",
      "       ' F_PU11', ' S_PU11', ' F_V2', ' S_V2', ' P_J280', ' P_J269', ' P_J300',\n",
      "       ' P_J256', ' P_J289', ' P_J415', ' P_J302', ' P_J306', ' P_J307',\n",
      "       ' P_J317', ' P_J14', ' P_J422', ' ATT_FLAG'],\n",
      "      dtype='object')\n"
     ]
    }
   ],
   "source": [
    "#Step 0: Reading the both the data sets (BATADAL_dataset03, 04) using read_csv and explore the column names and data¶\n",
    "#importing pandas for reading the csv file\n",
    "import pandas as pd\n",
    "\n",
    "dataset03 = pd.read_csv(\"BATADAL_dataset03.csv\")\n",
    "dataset04 = pd.read_csv(\"BATADAL_dataset04.csv\")\n",
    "\n",
    "# Observing the dataset columns and values\n",
    "print (\"BATADAL_dataset03.csv\")\n",
    "print(dataset03.head())\n",
    "print (dataset03.columns)\n",
    "print (\"BATADAL_dataset04.csv\")\n",
    "print(dataset04.head())\n",
    "print (dataset04.columns)"
   ]
  },
  {
   "cell_type": "markdown",
   "metadata": {},
   "source": [
    "## Pre-Processing - Dataset03\n",
    "#### Dropping ATT_FLAG and DATETIME columns in dataset03 as they are not important for the PCA"
   ]
  },
  {
   "cell_type": "code",
   "execution_count": 9,
   "metadata": {},
   "outputs": [
    {
     "data": {
      "text/html": [
       "<div>\n",
       "<style scoped>\n",
       "    .dataframe tbody tr th:only-of-type {\n",
       "        vertical-align: middle;\n",
       "    }\n",
       "\n",
       "    .dataframe tbody tr th {\n",
       "        vertical-align: top;\n",
       "    }\n",
       "\n",
       "    .dataframe thead th {\n",
       "        text-align: right;\n",
       "    }\n",
       "</style>\n",
       "<table border=\"1\" class=\"dataframe\">\n",
       "  <thead>\n",
       "    <tr style=\"text-align: right;\">\n",
       "      <th></th>\n",
       "      <th>L_T1</th>\n",
       "      <th>L_T2</th>\n",
       "      <th>L_T3</th>\n",
       "      <th>L_T4</th>\n",
       "      <th>L_T5</th>\n",
       "      <th>L_T6</th>\n",
       "      <th>L_T7</th>\n",
       "      <th>F_PU1</th>\n",
       "      <th>S_PU1</th>\n",
       "      <th>F_PU2</th>\n",
       "      <th>...</th>\n",
       "      <th>P_J300</th>\n",
       "      <th>P_J256</th>\n",
       "      <th>P_J289</th>\n",
       "      <th>P_J415</th>\n",
       "      <th>P_J302</th>\n",
       "      <th>P_J306</th>\n",
       "      <th>P_J307</th>\n",
       "      <th>P_J317</th>\n",
       "      <th>P_J14</th>\n",
       "      <th>P_J422</th>\n",
       "    </tr>\n",
       "  </thead>\n",
       "  <tbody>\n",
       "    <tr>\n",
       "      <th>0</th>\n",
       "      <td>0.509730</td>\n",
       "      <td>2.049003</td>\n",
       "      <td>3.191145</td>\n",
       "      <td>2.792634</td>\n",
       "      <td>2.656091</td>\n",
       "      <td>5.316831</td>\n",
       "      <td>1.562321</td>\n",
       "      <td>98.998444</td>\n",
       "      <td>1</td>\n",
       "      <td>99.018150</td>\n",
       "      <td>...</td>\n",
       "      <td>26.426495</td>\n",
       "      <td>87.605774</td>\n",
       "      <td>26.495605</td>\n",
       "      <td>84.206619</td>\n",
       "      <td>18.901676</td>\n",
       "      <td>81.983734</td>\n",
       "      <td>18.791777</td>\n",
       "      <td>67.125603</td>\n",
       "      <td>29.387470</td>\n",
       "      <td>28.487471</td>\n",
       "    </tr>\n",
       "    <tr>\n",
       "      <th>1</th>\n",
       "      <td>0.412580</td>\n",
       "      <td>2.009072</td>\n",
       "      <td>3.642565</td>\n",
       "      <td>2.831673</td>\n",
       "      <td>3.126387</td>\n",
       "      <td>5.494855</td>\n",
       "      <td>1.852043</td>\n",
       "      <td>99.095901</td>\n",
       "      <td>1</td>\n",
       "      <td>99.115639</td>\n",
       "      <td>...</td>\n",
       "      <td>26.422962</td>\n",
       "      <td>89.448341</td>\n",
       "      <td>26.487326</td>\n",
       "      <td>85.900085</td>\n",
       "      <td>18.849329</td>\n",
       "      <td>82.150589</td>\n",
       "      <td>18.739643</td>\n",
       "      <td>67.178696</td>\n",
       "      <td>29.354256</td>\n",
       "      <td>28.454256</td>\n",
       "    </tr>\n",
       "    <tr>\n",
       "      <th>2</th>\n",
       "      <td>0.320112</td>\n",
       "      <td>1.986093</td>\n",
       "      <td>4.140192</td>\n",
       "      <td>3.256733</td>\n",
       "      <td>3.574601</td>\n",
       "      <td>5.500000</td>\n",
       "      <td>2.246126</td>\n",
       "      <td>98.420959</td>\n",
       "      <td>1</td>\n",
       "      <td>98.440498</td>\n",
       "      <td>...</td>\n",
       "      <td>26.427771</td>\n",
       "      <td>91.056114</td>\n",
       "      <td>26.487364</td>\n",
       "      <td>86.582474</td>\n",
       "      <td>19.597170</td>\n",
       "      <td>83.988579</td>\n",
       "      <td>19.496712</td>\n",
       "      <td>72.425293</td>\n",
       "      <td>29.354538</td>\n",
       "      <td>28.454538</td>\n",
       "    </tr>\n",
       "    <tr>\n",
       "      <th>3</th>\n",
       "      <td>0.332879</td>\n",
       "      <td>2.009203</td>\n",
       "      <td>4.673478</td>\n",
       "      <td>3.744497</td>\n",
       "      <td>3.952379</td>\n",
       "      <td>5.500000</td>\n",
       "      <td>3.203573</td>\n",
       "      <td>97.575172</td>\n",
       "      <td>1</td>\n",
       "      <td>97.594460</td>\n",
       "      <td>...</td>\n",
       "      <td>26.519985</td>\n",
       "      <td>92.594353</td>\n",
       "      <td>26.575815</td>\n",
       "      <td>88.020546</td>\n",
       "      <td>26.028486</td>\n",
       "      <td>64.670486</td>\n",
       "      <td>25.922703</td>\n",
       "      <td>76.275040</td>\n",
       "      <td>29.449951</td>\n",
       "      <td>28.549952</td>\n",
       "    </tr>\n",
       "    <tr>\n",
       "      <th>4</th>\n",
       "      <td>0.483496</td>\n",
       "      <td>2.089049</td>\n",
       "      <td>5.237937</td>\n",
       "      <td>4.409456</td>\n",
       "      <td>3.504676</td>\n",
       "      <td>5.500000</td>\n",
       "      <td>4.439714</td>\n",
       "      <td>97.351059</td>\n",
       "      <td>1</td>\n",
       "      <td>97.370277</td>\n",
       "      <td>...</td>\n",
       "      <td>26.671642</td>\n",
       "      <td>94.473099</td>\n",
       "      <td>26.723457</td>\n",
       "      <td>90.422462</td>\n",
       "      <td>26.209970</td>\n",
       "      <td>64.746620</td>\n",
       "      <td>26.104692</td>\n",
       "      <td>76.703529</td>\n",
       "      <td>29.574265</td>\n",
       "      <td>28.674263</td>\n",
       "    </tr>\n",
       "  </tbody>\n",
       "</table>\n",
       "<p>5 rows × 43 columns</p>\n",
       "</div>"
      ],
      "text/plain": [
       "       L_T1      L_T2      L_T3      L_T4      L_T5      L_T6      L_T7  \\\n",
       "0  0.509730  2.049003  3.191145  2.792634  2.656091  5.316831  1.562321   \n",
       "1  0.412580  2.009072  3.642565  2.831673  3.126387  5.494855  1.852043   \n",
       "2  0.320112  1.986093  4.140192  3.256733  3.574601  5.500000  2.246126   \n",
       "3  0.332879  2.009203  4.673478  3.744497  3.952379  5.500000  3.203573   \n",
       "4  0.483496  2.089049  5.237937  4.409456  3.504676  5.500000  4.439714   \n",
       "\n",
       "       F_PU1  S_PU1      F_PU2    ...         P_J300     P_J256     P_J289  \\\n",
       "0  98.998444      1  99.018150    ...      26.426495  87.605774  26.495605   \n",
       "1  99.095901      1  99.115639    ...      26.422962  89.448341  26.487326   \n",
       "2  98.420959      1  98.440498    ...      26.427771  91.056114  26.487364   \n",
       "3  97.575172      1  97.594460    ...      26.519985  92.594353  26.575815   \n",
       "4  97.351059      1  97.370277    ...      26.671642  94.473099  26.723457   \n",
       "\n",
       "      P_J415     P_J302     P_J306     P_J307     P_J317      P_J14     P_J422  \n",
       "0  84.206619  18.901676  81.983734  18.791777  67.125603  29.387470  28.487471  \n",
       "1  85.900085  18.849329  82.150589  18.739643  67.178696  29.354256  28.454256  \n",
       "2  86.582474  19.597170  83.988579  19.496712  72.425293  29.354538  28.454538  \n",
       "3  88.020546  26.028486  64.670486  25.922703  76.275040  29.449951  28.549952  \n",
       "4  90.422462  26.209970  64.746620  26.104692  76.703529  29.574265  28.674263  \n",
       "\n",
       "[5 rows x 43 columns]"
      ]
     },
     "execution_count": 9,
     "metadata": {},
     "output_type": "execute_result"
    }
   ],
   "source": [
    "dataset03= dataset03.drop(\"ATT_FLAG\",axis=1,inplace=False) \n",
    "dataset03.head()\n",
    "dataset03 = dataset03.loc[:,dataset03.columns!='DATETIME'] \n",
    "dataset03.head()"
   ]
  },
  {
   "cell_type": "markdown",
   "metadata": {},
   "source": [
    "#### Training data is taken from BATADAL_dataset03 at first and PCA will be applied on this."
   ]
  },
  {
   "cell_type": "markdown",
   "metadata": {},
   "source": [
    "#### Step 1: Normalize the training dataset\n",
    "\n",
    "##### Let us first create the normalized training data by applying StandardScaler"
   ]
  },
  {
   "cell_type": "code",
   "execution_count": 10,
   "metadata": {},
   "outputs": [
    {
     "name": "stdout",
     "output_type": "stream",
     "text": [
      "X_scaled\n",
      "[[-1.80166786 -0.84216105 -1.4897346  ... -0.14960353 -1.03212449\n",
      "  -0.36335486]\n",
      " [-1.88243244 -0.8693521  -0.82434137 ... -0.13962538 -1.03997205\n",
      "  -0.37585097]\n",
      " [-1.95930569 -0.88499958 -0.09084088 ...  0.84640594 -1.03990535\n",
      "  -0.37574476]\n",
      " ...\n",
      " [ 0.36394528  0.45105891 -1.58995051 ... -0.2674142  -0.58470987\n",
      "   0.34908874]\n",
      " [ 0.21173951  0.41325741 -0.97116869 ... -0.20251108 -0.60133195\n",
      "   0.32262046]\n",
      " [ 0.05827056  0.36958123 -0.32060645 ...  0.12189842 -0.60166048\n",
      "   0.32209734]]\n",
      "Mean\n",
      "[-2.41686720e-16 -1.00162114e-16 -2.07268666e-16 -1.89780847e-16\n",
      " -1.33110177e-16  3.10462001e-15 -2.83860241e-17  3.77128606e-16\n",
      "  0.00000000e+00 -2.75141677e-16  4.11597350e-17  0.00000000e+00\n",
      "  0.00000000e+00 -7.02554098e-17 -1.63726532e-17  0.00000000e+00\n",
      "  0.00000000e+00 -3.04135973e-17 -3.40632290e-17  1.13138582e-16\n",
      " -8.47525578e-17 -7.13198857e-17 -6.58454381e-17  0.00000000e+00\n",
      "  0.00000000e+00 -3.11435236e-16 -3.71045887e-17 -4.46066094e-18\n",
      "  1.41930121e-17  8.39415285e-17 -5.63665337e-17  2.51404878e-14\n",
      " -2.40470176e-16 -4.28628965e-16 -1.85522944e-16  2.86698844e-16\n",
      " -2.76256842e-16 -6.76601161e-16 -1.34549754e-15 -1.52980394e-16\n",
      "  2.35664828e-15 -7.22525693e-16  9.79317833e-16]\n",
      "Standard Deviation\n",
      "[1. 1. 1. 1. 1. 1. 1. 1. 0. 1. 1. 0. 0. 1. 1. 0. 0. 1. 1. 1. 1. 1. 1. 0.\n",
      " 0. 1. 1. 1. 1. 1. 1. 1. 1. 1. 1. 1. 1. 1. 1. 1. 1. 1. 1.]\n"
     ]
    }
   ],
   "source": [
    "#http://scikit-learn.org/stable/modules/preprocessing.html\n",
    "from sklearn import preprocessing\n",
    "import numpy as np\n",
    "X_scaled = preprocessing.scale(dataset03)\n",
    "print(\"X_scaled\")\n",
    "print(X_scaled)\n",
    "#Scaled data has zero mean and unit variance:\n",
    "print(\"Mean\")\n",
    "print(X_scaled.mean(axis=0))\n",
    "print(\"Standard Deviation\")\n",
    "print(X_scaled.std(axis=0))\n"
   ]
  },
  {
   "cell_type": "markdown",
   "metadata": {},
   "source": [
    "#### Step 2: Apply PCA analysis on training data - dataset03\n",
    "\n"
   ]
  },
  {
   "cell_type": "code",
   "execution_count": 17,
   "metadata": {},
   "outputs": [
    {
     "name": "stdout",
     "output_type": "stream",
     "text": [
      "PCA(copy=True, iterated_power='auto', n_components=10, random_state=None,\n",
      "  svd_solver='auto', tol=0.0, whiten=False)\n",
      "[[-2.24905257 -2.51721473 -1.61306891 ... -0.01326591 -2.24174214\n",
      "   0.21515078]\n",
      " [-2.31116088 -2.56834897 -1.59614586 ... -0.00676206 -1.37169345\n",
      "   0.07073133]\n",
      " [-2.15564395 -2.55573008 -1.52915128 ... -0.03547918 -0.65216308\n",
      "   0.43389517]\n",
      " ...\n",
      " [-1.08896885 -2.33739456 -1.24527305 ... -0.15589374 -2.71333915\n",
      "   0.25096319]\n",
      " [-1.14882797 -2.36946046 -1.26217592 ... -0.12374611 -2.41964211\n",
      "   0.33120898]\n",
      " [-1.22150861 -2.51090192 -1.16303742 ... -0.07974715 -1.88278262\n",
      "   0.24516844]]\n",
      "--------------explained_variance_ratio_--------------\n",
      "[0.21494218 0.13380098 0.12803414 0.0997661  0.07213515 0.06760294\n",
      " 0.05553068 0.05537946 0.04252699 0.03248401]\n",
      "-----------------singular_values_--------------------\n",
      "[260.36878125 205.42710216 200.95137245 177.3861003  150.83480477\n",
      " 146.01950594 132.34105095 132.16073091 115.81382302 101.21920392]\n"
     ]
    }
   ],
   "source": [
    "import numpy as np\n",
    "from sklearn.decomposition import PCA\n",
    "pca = PCA(n_components=10)\n",
    "fit = pca.fit(X_scaled)\n",
    "transform = pca.transform(X_scaled)\n",
    "\n",
    "print(pca.fit(X_scaled))\n",
    "print(pca.transform(X_scaled))\n",
    "print(\"--------------explained_variance_ratio_--------------\")\n",
    "print(pca.explained_variance_ratio_) \n",
    "print(\"-----------------singular_values_--------------------\")\n",
    "print(pca.singular_values_)"
   ]
  },
  {
   "cell_type": "code",
   "execution_count": 19,
   "metadata": {},
   "outputs": [],
   "source": [
    "# function of deciding the number of eigenvalue to use for PCA\n",
    "def percentage2n(eigVals,percentage):  \n",
    "    sortArray=np.sort(eigVals)   \n",
    "    sortArray=sortArray[-1::-1]   \n",
    "    arraySum=sum(sortArray)  \n",
    "    tmpSum=0  \n",
    "    num=0  \n",
    "    for i in sortArray:  \n",
    "        tmpSum+=i  \n",
    "        num+=1  \n",
    "        if tmpSum>=arraySum*percentage:  \n",
    "            return num,sortArray"
   ]
  },
  {
   "cell_type": "code",
   "execution_count": 23,
   "metadata": {},
   "outputs": [
    {
     "name": "stdout",
     "output_type": "stream",
     "text": [
      "Number of principle component: 10\n"
     ]
    }
   ],
   "source": [
    "# find the number of eigenvalue\n",
    "covMat=np.cov(transform,rowvar=0)\n",
    "eigVals,eigVects=np.linalg.eig(np.mat(covMat)) \n",
    "num,sortArray = percentage2n(eigVals,0.99)\n",
    "print ('Number of principle component:',num )   # 6 principle component\n",
    "#print 'array of eigenvalue:',sortArray        # variance"
   ]
  },
  {
   "cell_type": "code",
   "execution_count": 24,
   "metadata": {},
   "outputs": [],
   "source": [
    "# define the function of PCA. return the reconstructed data and principle eigenvectors.\n",
    "def pca(newData,n):   \n",
    "    covMat=np.cov(newData,rowvar=0)    #calculate covariance matrix  \n",
    "    eigVals,eigVects=np.linalg.eig(np.mat(covMat))  \n",
    "    eigValIndice=np.argsort(eigVals)             \n",
    "    n_eigValIndice=eigValIndice[-1:-(n+1):-1]    \n",
    "    n_eigVect=eigVects[:,n_eigValIndice]         \n",
    "    lowDDataMat=newData*n_eigVect                \n",
    "    reconMat=(lowDDataMat*n_eigVect.T)  #reconstructed data \n",
    "    return n_eigVect,reconMat"
   ]
  },
  {
   "cell_type": "code",
   "execution_count": 26,
   "metadata": {},
   "outputs": [],
   "source": [
    "P,X_train_rec = pca(transform,num)"
   ]
  },
  {
   "cell_type": "code",
   "execution_count": 29,
   "metadata": {},
   "outputs": [
    {
     "data": {
      "text/plain": [
       "[<matplotlib.lines.Line2D at 0x27ec3a8d278>]"
      ]
     },
     "execution_count": 29,
     "metadata": {},
     "output_type": "execute_result"
    },
    {
     "data": {
      "image/png": "[encoded data removed]",
      "text/plain": [
       "<Figure size 1800x1080 with 1 Axes>"
      ]
     },
     "metadata": {},
     "output_type": "display_data"
    },
    {
     "data": {
      "text/plain": [
       "<Figure size 1800x720 with 0 Axes>"
      ]
     },
     "metadata": {},
     "output_type": "display_data"
    }
   ],
   "source": [
    "#Compute and plot the residual\n",
    "import matplotlib.pyplot as plt\n",
    "residual_pca1 = transform - X_train_rec\n",
    "residual_pca2 = np.square(residual_pca1)\n",
    "residual_pca = residual_pca2.sum(axis=1) \n",
    "\n",
    "figure, ax = plt.subplots(figsize=[25,15])\n",
    "plt.figure(figsize=[25,10])\n",
    "ax.plot(residual_pca)"
   ]
  },
  {
   "cell_type": "markdown",
   "metadata": {},
   "source": [
    "## Pre-processing for dataset04\n",
    "#### Step 2: Apply PCA analysis on training data - dataset04"
   ]
  },
  {
   "cell_type": "code",
   "execution_count": 16,
   "metadata": {},
   "outputs": [
    {
     "ename": "KeyError",
     "evalue": "'ATT_FLAG'",
     "output_type": "error",
     "traceback": [
      "\u001b[1;31m---------------------------------------------------------------------------\u001b[0m",
      "\u001b[1;31mKeyError\u001b[0m                                  Traceback (most recent call last)",
      "\u001b[1;32m~\\Anaconda3\\envs\\py36\\lib\\site-packages\\pandas\\core\\indexes\\base.py\u001b[0m in \u001b[0;36mget_loc\u001b[1;34m(self, key, method, tolerance)\u001b[0m\n\u001b[0;32m   3062\u001b[0m             \u001b[1;32mtry\u001b[0m\u001b[1;33m:\u001b[0m\u001b[1;33m\u001b[0m\u001b[0m\n\u001b[1;32m-> 3063\u001b[1;33m                 \u001b[1;32mreturn\u001b[0m \u001b[0mself\u001b[0m\u001b[1;33m.\u001b[0m\u001b[0m_engine\u001b[0m\u001b[1;33m.\u001b[0m\u001b[0mget_loc\u001b[0m\u001b[1;33m(\u001b[0m\u001b[0mkey\u001b[0m\u001b[1;33m)\u001b[0m\u001b[1;33m\u001b[0m\u001b[0m\n\u001b[0m\u001b[0;32m   3064\u001b[0m             \u001b[1;32mexcept\u001b[0m \u001b[0mKeyError\u001b[0m\u001b[1;33m:\u001b[0m\u001b[1;33m\u001b[0m\u001b[0m\n",
      "\u001b[1;32mpandas\\_libs\\index.pyx\u001b[0m in \u001b[0;36mpandas._libs.index.IndexEngine.get_loc\u001b[1;34m()\u001b[0m\n",
      "\u001b[1;32mpandas\\_libs\\index.pyx\u001b[0m in \u001b[0;36mpandas._libs.index.IndexEngine.get_loc\u001b[1;34m()\u001b[0m\n",
      "\u001b[1;32mpandas\\_libs\\hashtable_class_helper.pxi\u001b[0m in \u001b[0;36mpandas._libs.hashtable.PyObjectHashTable.get_item\u001b[1;34m()\u001b[0m\n",
      "\u001b[1;32mpandas\\_libs\\hashtable_class_helper.pxi\u001b[0m in \u001b[0;36mpandas._libs.hashtable.PyObjectHashTable.get_item\u001b[1;34m()\u001b[0m\n",
      "\u001b[1;31mKeyError\u001b[0m: 'ATT_FLAG'",
      "\nDuring handling of the above exception, another exception occurred:\n",
      "\u001b[1;31mKeyError\u001b[0m                                  Traceback (most recent call last)",
      "\u001b[1;32m<ipython-input-16-5c82b631587b>\u001b[0m in \u001b[0;36m<module>\u001b[1;34m()\u001b[0m\n\u001b[1;32m----> 1\u001b[1;33m \u001b[0mdataset04\u001b[0m \u001b[1;33m=\u001b[0m \u001b[0mdataset04\u001b[0m\u001b[1;33m.\u001b[0m\u001b[0mloc\u001b[0m\u001b[1;33m[\u001b[0m\u001b[1;33m:\u001b[0m\u001b[0mdataset04\u001b[0m\u001b[1;33m[\u001b[0m\u001b[1;34m'ATT_FLAG'\u001b[0m\u001b[1;33m]\u001b[0m \u001b[1;33m!=\u001b[0m \u001b[1;34m'1'\u001b[0m\u001b[1;33m]\u001b[0m\u001b[1;33m\u001b[0m\u001b[0m\n\u001b[0m\u001b[0;32m      2\u001b[0m \u001b[0mX_scaled04\u001b[0m \u001b[1;33m=\u001b[0m \u001b[0mpreprocessing\u001b[0m\u001b[1;33m.\u001b[0m\u001b[0mscale\u001b[0m\u001b[1;33m(\u001b[0m\u001b[0mdataset04\u001b[0m\u001b[1;33m)\u001b[0m\u001b[1;33m\u001b[0m\u001b[0m\n\u001b[0;32m      3\u001b[0m \u001b[0mprint\u001b[0m\u001b[1;33m(\u001b[0m\u001b[1;34m\"X_scaled04\"\u001b[0m\u001b[1;33m)\u001b[0m\u001b[1;33m\u001b[0m\u001b[0m\n\u001b[0;32m      4\u001b[0m \u001b[0mprint\u001b[0m\u001b[1;33m(\u001b[0m\u001b[0mX_scaled04\u001b[0m\u001b[1;33m)\u001b[0m\u001b[1;33m\u001b[0m\u001b[0m\n\u001b[0;32m      5\u001b[0m \u001b[1;31m#Scaled data has zero mean and unit variance:\u001b[0m\u001b[1;33m\u001b[0m\u001b[1;33m\u001b[0m\u001b[0m\n",
      "\u001b[1;32m~\\Anaconda3\\envs\\py36\\lib\\site-packages\\pandas\\core\\frame.py\u001b[0m in \u001b[0;36m__getitem__\u001b[1;34m(self, key)\u001b[0m\n\u001b[0;32m   2683\u001b[0m             \u001b[1;32mreturn\u001b[0m \u001b[0mself\u001b[0m\u001b[1;33m.\u001b[0m\u001b[0m_getitem_multilevel\u001b[0m\u001b[1;33m(\u001b[0m\u001b[0mkey\u001b[0m\u001b[1;33m)\u001b[0m\u001b[1;33m\u001b[0m\u001b[0m\n\u001b[0;32m   2684\u001b[0m         \u001b[1;32melse\u001b[0m\u001b[1;33m:\u001b[0m\u001b[1;33m\u001b[0m\u001b[0m\n\u001b[1;32m-> 2685\u001b[1;33m             \u001b[1;32mreturn\u001b[0m \u001b[0mself\u001b[0m\u001b[1;33m.\u001b[0m\u001b[0m_getitem_column\u001b[0m\u001b[1;33m(\u001b[0m\u001b[0mkey\u001b[0m\u001b[1;33m)\u001b[0m\u001b[1;33m\u001b[0m\u001b[0m\n\u001b[0m\u001b[0;32m   2686\u001b[0m \u001b[1;33m\u001b[0m\u001b[0m\n\u001b[0;32m   2687\u001b[0m     \u001b[1;32mdef\u001b[0m \u001b[0m_getitem_column\u001b[0m\u001b[1;33m(\u001b[0m\u001b[0mself\u001b[0m\u001b[1;33m,\u001b[0m \u001b[0mkey\u001b[0m\u001b[1;33m)\u001b[0m\u001b[1;33m:\u001b[0m\u001b[1;33m\u001b[0m\u001b[0m\n",
      "\u001b[1;32m~\\Anaconda3\\envs\\py36\\lib\\site-packages\\pandas\\core\\frame.py\u001b[0m in \u001b[0;36m_getitem_column\u001b[1;34m(self, key)\u001b[0m\n\u001b[0;32m   2690\u001b[0m         \u001b[1;31m# get column\u001b[0m\u001b[1;33m\u001b[0m\u001b[1;33m\u001b[0m\u001b[0m\n\u001b[0;32m   2691\u001b[0m         \u001b[1;32mif\u001b[0m \u001b[0mself\u001b[0m\u001b[1;33m.\u001b[0m\u001b[0mcolumns\u001b[0m\u001b[1;33m.\u001b[0m\u001b[0mis_unique\u001b[0m\u001b[1;33m:\u001b[0m\u001b[1;33m\u001b[0m\u001b[0m\n\u001b[1;32m-> 2692\u001b[1;33m             \u001b[1;32mreturn\u001b[0m \u001b[0mself\u001b[0m\u001b[1;33m.\u001b[0m\u001b[0m_get_item_cache\u001b[0m\u001b[1;33m(\u001b[0m\u001b[0mkey\u001b[0m\u001b[1;33m)\u001b[0m\u001b[1;33m\u001b[0m\u001b[0m\n\u001b[0m\u001b[0;32m   2693\u001b[0m \u001b[1;33m\u001b[0m\u001b[0m\n\u001b[0;32m   2694\u001b[0m         \u001b[1;31m# duplicate columns & possible reduce dimensionality\u001b[0m\u001b[1;33m\u001b[0m\u001b[1;33m\u001b[0m\u001b[0m\n",
      "\u001b[1;32m~\\Anaconda3\\envs\\py36\\lib\\site-packages\\pandas\\core\\generic.py\u001b[0m in \u001b[0;36m_get_item_cache\u001b[1;34m(self, item)\u001b[0m\n\u001b[0;32m   2484\u001b[0m         \u001b[0mres\u001b[0m \u001b[1;33m=\u001b[0m \u001b[0mcache\u001b[0m\u001b[1;33m.\u001b[0m\u001b[0mget\u001b[0m\u001b[1;33m(\u001b[0m\u001b[0mitem\u001b[0m\u001b[1;33m)\u001b[0m\u001b[1;33m\u001b[0m\u001b[0m\n\u001b[0;32m   2485\u001b[0m         \u001b[1;32mif\u001b[0m \u001b[0mres\u001b[0m \u001b[1;32mis\u001b[0m \u001b[1;32mNone\u001b[0m\u001b[1;33m:\u001b[0m\u001b[1;33m\u001b[0m\u001b[0m\n\u001b[1;32m-> 2486\u001b[1;33m             \u001b[0mvalues\u001b[0m \u001b[1;33m=\u001b[0m \u001b[0mself\u001b[0m\u001b[1;33m.\u001b[0m\u001b[0m_data\u001b[0m\u001b[1;33m.\u001b[0m\u001b[0mget\u001b[0m\u001b[1;33m(\u001b[0m\u001b[0mitem\u001b[0m\u001b[1;33m)\u001b[0m\u001b[1;33m\u001b[0m\u001b[0m\n\u001b[0m\u001b[0;32m   2487\u001b[0m             \u001b[0mres\u001b[0m \u001b[1;33m=\u001b[0m \u001b[0mself\u001b[0m\u001b[1;33m.\u001b[0m\u001b[0m_box_item_values\u001b[0m\u001b[1;33m(\u001b[0m\u001b[0mitem\u001b[0m\u001b[1;33m,\u001b[0m \u001b[0mvalues\u001b[0m\u001b[1;33m)\u001b[0m\u001b[1;33m\u001b[0m\u001b[0m\n\u001b[0;32m   2488\u001b[0m             \u001b[0mcache\u001b[0m\u001b[1;33m[\u001b[0m\u001b[0mitem\u001b[0m\u001b[1;33m]\u001b[0m \u001b[1;33m=\u001b[0m \u001b[0mres\u001b[0m\u001b[1;33m\u001b[0m\u001b[0m\n",
      "\u001b[1;32m~\\Anaconda3\\envs\\py36\\lib\\site-packages\\pandas\\core\\internals.py\u001b[0m in \u001b[0;36mget\u001b[1;34m(self, item, fastpath)\u001b[0m\n\u001b[0;32m   4113\u001b[0m \u001b[1;33m\u001b[0m\u001b[0m\n\u001b[0;32m   4114\u001b[0m             \u001b[1;32mif\u001b[0m \u001b[1;32mnot\u001b[0m \u001b[0misna\u001b[0m\u001b[1;33m(\u001b[0m\u001b[0mitem\u001b[0m\u001b[1;33m)\u001b[0m\u001b[1;33m:\u001b[0m\u001b[1;33m\u001b[0m\u001b[0m\n\u001b[1;32m-> 4115\u001b[1;33m                 \u001b[0mloc\u001b[0m \u001b[1;33m=\u001b[0m \u001b[0mself\u001b[0m\u001b[1;33m.\u001b[0m\u001b[0mitems\u001b[0m\u001b[1;33m.\u001b[0m\u001b[0mget_loc\u001b[0m\u001b[1;33m(\u001b[0m\u001b[0mitem\u001b[0m\u001b[1;33m)\u001b[0m\u001b[1;33m\u001b[0m\u001b[0m\n\u001b[0m\u001b[0;32m   4116\u001b[0m             \u001b[1;32melse\u001b[0m\u001b[1;33m:\u001b[0m\u001b[1;33m\u001b[0m\u001b[0m\n\u001b[0;32m   4117\u001b[0m                 \u001b[0mindexer\u001b[0m \u001b[1;33m=\u001b[0m \u001b[0mnp\u001b[0m\u001b[1;33m.\u001b[0m\u001b[0marange\u001b[0m\u001b[1;33m(\u001b[0m\u001b[0mlen\u001b[0m\u001b[1;33m(\u001b[0m\u001b[0mself\u001b[0m\u001b[1;33m.\u001b[0m\u001b[0mitems\u001b[0m\u001b[1;33m)\u001b[0m\u001b[1;33m)\u001b[0m\u001b[1;33m[\u001b[0m\u001b[0misna\u001b[0m\u001b[1;33m(\u001b[0m\u001b[0mself\u001b[0m\u001b[1;33m.\u001b[0m\u001b[0mitems\u001b[0m\u001b[1;33m)\u001b[0m\u001b[1;33m]\u001b[0m\u001b[1;33m\u001b[0m\u001b[0m\n",
      "\u001b[1;32m~\\Anaconda3\\envs\\py36\\lib\\site-packages\\pandas\\core\\indexes\\base.py\u001b[0m in \u001b[0;36mget_loc\u001b[1;34m(self, key, method, tolerance)\u001b[0m\n\u001b[0;32m   3063\u001b[0m                 \u001b[1;32mreturn\u001b[0m \u001b[0mself\u001b[0m\u001b[1;33m.\u001b[0m\u001b[0m_engine\u001b[0m\u001b[1;33m.\u001b[0m\u001b[0mget_loc\u001b[0m\u001b[1;33m(\u001b[0m\u001b[0mkey\u001b[0m\u001b[1;33m)\u001b[0m\u001b[1;33m\u001b[0m\u001b[0m\n\u001b[0;32m   3064\u001b[0m             \u001b[1;32mexcept\u001b[0m \u001b[0mKeyError\u001b[0m\u001b[1;33m:\u001b[0m\u001b[1;33m\u001b[0m\u001b[0m\n\u001b[1;32m-> 3065\u001b[1;33m                 \u001b[1;32mreturn\u001b[0m \u001b[0mself\u001b[0m\u001b[1;33m.\u001b[0m\u001b[0m_engine\u001b[0m\u001b[1;33m.\u001b[0m\u001b[0mget_loc\u001b[0m\u001b[1;33m(\u001b[0m\u001b[0mself\u001b[0m\u001b[1;33m.\u001b[0m\u001b[0m_maybe_cast_indexer\u001b[0m\u001b[1;33m(\u001b[0m\u001b[0mkey\u001b[0m\u001b[1;33m)\u001b[0m\u001b[1;33m)\u001b[0m\u001b[1;33m\u001b[0m\u001b[0m\n\u001b[0m\u001b[0;32m   3066\u001b[0m \u001b[1;33m\u001b[0m\u001b[0m\n\u001b[0;32m   3067\u001b[0m         \u001b[0mindexer\u001b[0m \u001b[1;33m=\u001b[0m \u001b[0mself\u001b[0m\u001b[1;33m.\u001b[0m\u001b[0mget_indexer\u001b[0m\u001b[1;33m(\u001b[0m\u001b[1;33m[\u001b[0m\u001b[0mkey\u001b[0m\u001b[1;33m]\u001b[0m\u001b[1;33m,\u001b[0m \u001b[0mmethod\u001b[0m\u001b[1;33m=\u001b[0m\u001b[0mmethod\u001b[0m\u001b[1;33m,\u001b[0m \u001b[0mtolerance\u001b[0m\u001b[1;33m=\u001b[0m\u001b[0mtolerance\u001b[0m\u001b[1;33m)\u001b[0m\u001b[1;33m\u001b[0m\u001b[0m\n",
      "\u001b[1;32mpandas\\_libs\\index.pyx\u001b[0m in \u001b[0;36mpandas._libs.index.IndexEngine.get_loc\u001b[1;34m()\u001b[0m\n",
      "\u001b[1;32mpandas\\_libs\\index.pyx\u001b[0m in \u001b[0;36mpandas._libs.index.IndexEngine.get_loc\u001b[1;34m()\u001b[0m\n",
      "\u001b[1;32mpandas\\_libs\\hashtable_class_helper.pxi\u001b[0m in \u001b[0;36mpandas._libs.hashtable.PyObjectHashTable.get_item\u001b[1;34m()\u001b[0m\n",
      "\u001b[1;32mpandas\\_libs\\hashtable_class_helper.pxi\u001b[0m in \u001b[0;36mpandas._libs.hashtable.PyObjectHashTable.get_item\u001b[1;34m()\u001b[0m\n",
      "\u001b[1;31mKeyError\u001b[0m: 'ATT_FLAG'"
     ]
    }
   ],
   "source": [
    "dataset04 = dataset04.loc[:dataset04['ATT_FLAG'] != '1']\n",
    "X_scaled04 = preprocessing.scale(dataset04)\n",
    "print(\"X_scaled04\")\n",
    "print(X_scaled04)\n",
    "#Scaled data has zero mean and unit variance:\n",
    "print(\"Mean\")\n",
    "print(X_scaled04.mean(axis=0))\n",
    "print(\"Standard Deviation\")\n",
    "print(X_scaled04.std(axis=0))\n",
    "fit = pca.fit(X_scaled04)\n",
    "pca.transform(X_scaled04)"
   ]
  },
  {
   "cell_type": "code",
   "execution_count": null,
   "metadata": {},
   "outputs": [],
   "source": []
  }
 ],
 "metadata": {
  "kernelspec": {
   "display_name": "Python [conda env:py36]",
   "language": "python",
   "name": "conda-env-py36-py"
  },
  "language_info": {
   "codemirror_mode": {
    "name": "ipython",
    "version": 3
   },
   "file_extension": ".py",
   "mimetype": "text/x-python",
   "name": "python",
   "nbconvert_exporter": "python",
   "pygments_lexer": "ipython3",
   "version": "3.6.5"
  }
 },
 "nbformat": 4,
 "nbformat_minor": 2
}
