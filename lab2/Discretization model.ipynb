{
 "cells": [
  {
   "cell_type": "markdown",
   "metadata": {},
   "source": [
    "## Discretization Model\n",
    "##### The following questions have to be answered to complete this task\n",
    "###### 1. Discretize the sensor data using any of the methods discussed in class. Explain why you choose this method and why the obtained discretization makes sense\n",
    "###### 2. Visualize the discretization\n",
    "###### 3. Apply any of the sequential data mining methods (N-grams, Sequence alignment with kNN, …) to sliding windows with a length of your choosing in order to find anomalies\n",
    "###### 4. Whenever an observed N-gram’s probability is too small, or the sequential data is too distant from any training sequence, raise an alarm\n",
    "###### 5. Set your thresholds sensibly. \n",
    "###### 6. What kind of anomalies can you detect using the sequential model? \n",
    "###### 7. Which sensors can be modeled effectively?\n"
   ]
  },
  {
   "cell_type": "markdown",
   "metadata": {},
   "source": [
    "1. Discretize the sensor data using any of the methods discussed in class. Explain why you choose this method and why the obtained discretization makes sense"
   ]
  },
  {
   "cell_type": "code",
   "execution_count": 59,
   "metadata": {},
   "outputs": [],
   "source": [
    "import pandas as pd\n",
    "import matplotlib.pyplot as plt\n",
    "import nltk\n",
    "import seaborn as sns\n",
    "from sklearn import preprocessing\n",
    "import numpy as np\n",
    "import itertools\n",
    "from itertools import islice\n",
    "import pywt"
   ]
  },
  {
   "cell_type": "code",
   "execution_count": 25,
   "metadata": {},
   "outputs": [
    {
     "data": {
      "text/plain": [
       "[('s', 'p', 'a'),\n",
       " ('p', 'a', 'm'),\n",
       " ('a', 'm', ' '),\n",
       " ('m', ' ', 'a'),\n",
       " (' ', 'a', 'n'),\n",
       " ('a', 'n', 'd'),\n",
       " ('n', 'd', ' '),\n",
       " ('d', ' ', 'e'),\n",
       " (' ', 'e', 'g'),\n",
       " ('e', 'g', 'g'),\n",
       " ('g', 'g', 's')]"
      ]
     },
     "execution_count": 25,
     "metadata": {},
     "output_type": "execute_result"
    }
   ],
   "source": [
    "from itertools import islice, tee\n",
    "s = 'spam and eggs'\n",
    "N = 3\n",
    "trigrams = zip(*(islice(seq, index, None) for index, seq in enumerate(tee(s, N))))\n",
    "list(trigrams)"
   ]
  },
  {
   "cell_type": "code",
   "execution_count": 51,
   "metadata": {},
   "outputs": [
    {
     "data": {
      "text/plain": [
       "Index(['DATETIME', 'L_T1', 'L_T2', 'L_T3', 'L_T4', 'L_T5', 'L_T6', 'L_T7',\n",
       "       'F_PU1', 'S_PU1', 'F_PU2', 'S_PU2', 'F_PU3', 'S_PU3', 'F_PU4', 'S_PU4',\n",
       "       'F_PU5', 'S_PU5', 'F_PU6', 'S_PU6', 'F_PU7', 'S_PU7', 'F_PU8', 'S_PU8',\n",
       "       'F_PU9', 'S_PU9', 'F_PU10', 'S_PU10', 'F_PU11', 'S_PU11', 'F_V2',\n",
       "       'S_V2', 'P_J280', 'P_J269', 'P_J300', 'P_J256', 'P_J289', 'P_J415',\n",
       "       'P_J302', 'P_J306', 'P_J307', 'P_J317', 'P_J14', 'P_J422', 'ATT_FLAG'],\n",
       "      dtype='object')"
      ]
     },
     "execution_count": 51,
     "metadata": {},
     "output_type": "execute_result"
    }
   ],
   "source": [
    "dataset03 = pd.read_csv(\"BATADAL_dataset03.csv\")\n",
    "dataset03.columns\n"
   ]
  },
  {
   "cell_type": "code",
   "execution_count": null,
   "metadata": {},
   "outputs": [],
   "source": [
    "dataset03= dataset03.drop(\"ATT_FLAG\",axis=1,inplace=False) \n",
    "dataset03.head()\n",
    "dataset03 = dataset03.loc[:,dataset03.columns!='DATETIME'] \n",
    "dataset03.head()\n",
    "X_scaled = preprocessing.scale(dataset03)\n",
    "print(\"X_scaled\")\n",
    "print(X_scaled)"
   ]
  },
  {
   "cell_type": "code",
   "execution_count": 37,
   "metadata": {},
   "outputs": [
    {
     "data": {
      "image/png": "[encoded data removed]",
      "text/plain": [
       "<Figure size 432x288 with 1 Axes>"
      ]
     },
     "metadata": {},
     "output_type": "display_data"
    }
   ],
   "source": [
    "A = [437.479, 438.536, 440.026,471.161]\n",
    "bins = np.linspace(np.amin(A),np.amax(A),255) \n",
    "discretized_A = np.digitize(A, bins) \n",
    "plt.plot(A)\n",
    "plt.plot(discretized_A)\n",
    "plt.show()"
   ]
  },
  {
   "cell_type": "code",
   "execution_count": 47,
   "metadata": {},
   "outputs": [
    {
     "data": {
      "image/png": "[encoded data removed]",
      "text/plain": [
       "<Figure size 432x288 with 1 Axes>"
      ]
     },
     "metadata": {},
     "output_type": "display_data"
    }
   ],
   "source": [
    "A = X_scaled\n",
    "bins = np.linspace(np.amin(A),np.amax(A),8) \n",
    "discretized_A = np.digitize(A, bins) \n",
    "#plt.plot(A)\n",
    "plt.plot(discretized_A)\n",
    "plt.show()"
   ]
  },
  {
   "cell_type": "code",
   "execution_count": 69,
   "metadata": {},
   "outputs": [],
   "source": [
    "cA, cD = pywt.dwt([1, 2, 3, 4], 'db1')"
   ]
  },
  {
   "cell_type": "code",
   "execution_count": 70,
   "metadata": {},
   "outputs": [
    {
     "data": {
      "image/png": "[encoded data removed]",
      "text/plain": [
       "<Figure size 432x288 with 1 Axes>"
      ]
     },
     "metadata": {},
     "output_type": "display_data"
    }
   ],
   "source": [
    "plt.plot(cA)\n",
    "plt.plot(cD)\n",
    "plt.show()"
   ]
  }
 ],
 "metadata": {
  "kernelspec": {
   "display_name": "Python [conda env:py36]",
   "language": "python",
   "name": "conda-env-py36-py"
  },
  "language_info": {
   "codemirror_mode": {
    "name": "ipython",
    "version": 3
   },
   "file_extension": ".py",
   "mimetype": "text/x-python",
   "name": "python",
   "nbconvert_exporter": "python",
   "pygments_lexer": "ipython3",
   "version": "3.6.5"
  }
 },
 "nbformat": 4,
 "nbformat_minor": 2
}
