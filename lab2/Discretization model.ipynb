{
 "cells": [
  {
   "cell_type": "markdown",
   "metadata": {},
   "source": [
    "## Discretization Model\n",
    "##### The following questions have to be answered to complete this task\n",
    "###### 1. Discretize the sensor data using any of the methods discussed in class. Explain why you choose this method and why the obtained discretization makes sense\n",
    "###### 2. Visualize the discretization\n",
    "###### 3. Apply any of the sequential data mining methods (N-grams, Sequence alignment with kNN, …) to sliding windows with a length of your choosing in order to find anomalies\n",
    "###### 4. Whenever an observed N-gram’s probability is too small, or the sequential data is too distant from any training sequence, raise an alarm\n",
    "###### 5. Set your thresholds sensibly. \n",
    "###### 6. What kind of anomalies can you detect using the sequential model? \n",
    "###### 7. Which sensors can be modeled effectively?\n"
   ]
  },
  {
   "cell_type": "markdown",
   "metadata": {},
   "source": [
    "1. Discretize the sensor data using any of the methods discussed in class. Explain why you choose this method and why the obtained discretization makes sense"
   ]
  },
  {
   "cell_type": "code",
   "execution_count": 1,
   "metadata": {},
   "outputs": [],
   "source": [
    "import pandas as pd\n",
    "import matplotlib.pyplot as plt\n",
    "import nltk\n",
    "import seaborn as sns\n",
    "from sklearn import preprocessing\n",
    "import numpy as np\n",
    "import itertools\n",
    "from itertools import islice\n",
    "import pywt"
   ]
  },
  {
   "cell_type": "code",
   "execution_count": 25,
   "metadata": {},
   "outputs": [
    {
     "data": {
      "text/plain": [
       "[('s', 'p', 'a'),\n",
       " ('p', 'a', 'm'),\n",
       " ('a', 'm', ' '),\n",
       " ('m', ' ', 'a'),\n",
       " (' ', 'a', 'n'),\n",
       " ('a', 'n', 'd'),\n",
       " ('n', 'd', ' '),\n",
       " ('d', ' ', 'e'),\n",
       " (' ', 'e', 'g'),\n",
       " ('e', 'g', 'g'),\n",
       " ('g', 'g', 's')]"
      ]
     },
     "execution_count": 25,
     "metadata": {},
     "output_type": "execute_result"
    }
   ],
   "source": [
    "from itertools import islice, tee\n",
    "s = 'spam and eggs'\n",
    "N = 3\n",
    "trigrams = zip(*(islice(seq, index, None) for index, seq in enumerate(tee(s, N))))\n",
    "list(trigrams)"
   ]
  },
  {
   "cell_type": "code",
   "execution_count": 2,
   "metadata": {},
   "outputs": [
    {
     "data": {
      "text/plain": [
       "Index(['DATETIME', 'L_T1', 'L_T2', 'L_T3', 'L_T4', 'L_T5', 'L_T6', 'L_T7',\n",
       "       'F_PU1', 'S_PU1', 'F_PU2', 'S_PU2', 'F_PU3', 'S_PU3', 'F_PU4', 'S_PU4',\n",
       "       'F_PU5', 'S_PU5', 'F_PU6', 'S_PU6', 'F_PU7', 'S_PU7', 'F_PU8', 'S_PU8',\n",
       "       'F_PU9', 'S_PU9', 'F_PU10', 'S_PU10', 'F_PU11', 'S_PU11', 'F_V2',\n",
       "       'S_V2', 'P_J280', 'P_J269', 'P_J300', 'P_J256', 'P_J289', 'P_J415',\n",
       "       'P_J302', 'P_J306', 'P_J307', 'P_J317', 'P_J14', 'P_J422', 'ATT_FLAG'],\n",
       "      dtype='object')"
      ]
     },
     "execution_count": 2,
     "metadata": {},
     "output_type": "execute_result"
    }
   ],
   "source": [
    "dataset03 = pd.read_csv(\"BATADAL_dataset03.csv\")\n",
    "dataset03.columns\n"
   ]
  },
  {
   "cell_type": "code",
   "execution_count": 3,
   "metadata": {},
   "outputs": [
    {
     "data": {
      "text/html": [
       "<div>\n",
       "<style scoped>\n",
       "    .dataframe tbody tr th:only-of-type {\n",
       "        vertical-align: middle;\n",
       "    }\n",
       "\n",
       "    .dataframe tbody tr th {\n",
       "        vertical-align: top;\n",
       "    }\n",
       "\n",
       "    .dataframe thead th {\n",
       "        text-align: right;\n",
       "    }\n",
       "</style>\n",
       "<table border=\"1\" class=\"dataframe\">\n",
       "  <thead>\n",
       "    <tr style=\"text-align: right;\">\n",
       "      <th></th>\n",
       "      <th>DATETIME</th>\n",
       "      <th>L_T1</th>\n",
       "      <th>L_T2</th>\n",
       "      <th>L_T3</th>\n",
       "      <th>L_T4</th>\n",
       "      <th>L_T5</th>\n",
       "      <th>L_T6</th>\n",
       "      <th>L_T7</th>\n",
       "      <th>F_PU1</th>\n",
       "      <th>S_PU1</th>\n",
       "      <th>...</th>\n",
       "      <th>P_J300</th>\n",
       "      <th>P_J256</th>\n",
       "      <th>P_J289</th>\n",
       "      <th>P_J415</th>\n",
       "      <th>P_J302</th>\n",
       "      <th>P_J306</th>\n",
       "      <th>P_J307</th>\n",
       "      <th>P_J317</th>\n",
       "      <th>P_J14</th>\n",
       "      <th>P_J422</th>\n",
       "    </tr>\n",
       "  </thead>\n",
       "  <tbody>\n",
       "    <tr>\n",
       "      <th>0</th>\n",
       "      <td>06/01/14 00</td>\n",
       "      <td>0.509730</td>\n",
       "      <td>2.049003</td>\n",
       "      <td>3.191145</td>\n",
       "      <td>2.792634</td>\n",
       "      <td>2.656091</td>\n",
       "      <td>5.316831</td>\n",
       "      <td>1.562321</td>\n",
       "      <td>98.998444</td>\n",
       "      <td>1</td>\n",
       "      <td>...</td>\n",
       "      <td>26.426495</td>\n",
       "      <td>87.605774</td>\n",
       "      <td>26.495605</td>\n",
       "      <td>84.206619</td>\n",
       "      <td>18.901676</td>\n",
       "      <td>81.983734</td>\n",
       "      <td>18.791777</td>\n",
       "      <td>67.125603</td>\n",
       "      <td>29.387470</td>\n",
       "      <td>28.487471</td>\n",
       "    </tr>\n",
       "    <tr>\n",
       "      <th>1</th>\n",
       "      <td>06/01/14 01</td>\n",
       "      <td>0.412580</td>\n",
       "      <td>2.009072</td>\n",
       "      <td>3.642565</td>\n",
       "      <td>2.831673</td>\n",
       "      <td>3.126387</td>\n",
       "      <td>5.494855</td>\n",
       "      <td>1.852043</td>\n",
       "      <td>99.095901</td>\n",
       "      <td>1</td>\n",
       "      <td>...</td>\n",
       "      <td>26.422962</td>\n",
       "      <td>89.448341</td>\n",
       "      <td>26.487326</td>\n",
       "      <td>85.900085</td>\n",
       "      <td>18.849329</td>\n",
       "      <td>82.150589</td>\n",
       "      <td>18.739643</td>\n",
       "      <td>67.178696</td>\n",
       "      <td>29.354256</td>\n",
       "      <td>28.454256</td>\n",
       "    </tr>\n",
       "    <tr>\n",
       "      <th>2</th>\n",
       "      <td>06/01/14 02</td>\n",
       "      <td>0.320112</td>\n",
       "      <td>1.986093</td>\n",
       "      <td>4.140192</td>\n",
       "      <td>3.256733</td>\n",
       "      <td>3.574601</td>\n",
       "      <td>5.500000</td>\n",
       "      <td>2.246126</td>\n",
       "      <td>98.420959</td>\n",
       "      <td>1</td>\n",
       "      <td>...</td>\n",
       "      <td>26.427771</td>\n",
       "      <td>91.056114</td>\n",
       "      <td>26.487364</td>\n",
       "      <td>86.582474</td>\n",
       "      <td>19.597170</td>\n",
       "      <td>83.988579</td>\n",
       "      <td>19.496712</td>\n",
       "      <td>72.425293</td>\n",
       "      <td>29.354538</td>\n",
       "      <td>28.454538</td>\n",
       "    </tr>\n",
       "    <tr>\n",
       "      <th>3</th>\n",
       "      <td>06/01/14 03</td>\n",
       "      <td>0.332879</td>\n",
       "      <td>2.009203</td>\n",
       "      <td>4.673478</td>\n",
       "      <td>3.744497</td>\n",
       "      <td>3.952379</td>\n",
       "      <td>5.500000</td>\n",
       "      <td>3.203573</td>\n",
       "      <td>97.575172</td>\n",
       "      <td>1</td>\n",
       "      <td>...</td>\n",
       "      <td>26.519985</td>\n",
       "      <td>92.594353</td>\n",
       "      <td>26.575815</td>\n",
       "      <td>88.020546</td>\n",
       "      <td>26.028486</td>\n",
       "      <td>64.670486</td>\n",
       "      <td>25.922703</td>\n",
       "      <td>76.275040</td>\n",
       "      <td>29.449951</td>\n",
       "      <td>28.549952</td>\n",
       "    </tr>\n",
       "    <tr>\n",
       "      <th>4</th>\n",
       "      <td>06/01/14 04</td>\n",
       "      <td>0.483496</td>\n",
       "      <td>2.089049</td>\n",
       "      <td>5.237937</td>\n",
       "      <td>4.409456</td>\n",
       "      <td>3.504676</td>\n",
       "      <td>5.500000</td>\n",
       "      <td>4.439714</td>\n",
       "      <td>97.351059</td>\n",
       "      <td>1</td>\n",
       "      <td>...</td>\n",
       "      <td>26.671642</td>\n",
       "      <td>94.473099</td>\n",
       "      <td>26.723457</td>\n",
       "      <td>90.422462</td>\n",
       "      <td>26.209970</td>\n",
       "      <td>64.746620</td>\n",
       "      <td>26.104692</td>\n",
       "      <td>76.703529</td>\n",
       "      <td>29.574265</td>\n",
       "      <td>28.674263</td>\n",
       "    </tr>\n",
       "  </tbody>\n",
       "</table>\n",
       "<p>5 rows × 44 columns</p>\n",
       "</div>"
      ],
      "text/plain": [
       "      DATETIME      L_T1      L_T2      L_T3      L_T4      L_T5      L_T6  \\\n",
       "0  06/01/14 00  0.509730  2.049003  3.191145  2.792634  2.656091  5.316831   \n",
       "1  06/01/14 01  0.412580  2.009072  3.642565  2.831673  3.126387  5.494855   \n",
       "2  06/01/14 02  0.320112  1.986093  4.140192  3.256733  3.574601  5.500000   \n",
       "3  06/01/14 03  0.332879  2.009203  4.673478  3.744497  3.952379  5.500000   \n",
       "4  06/01/14 04  0.483496  2.089049  5.237937  4.409456  3.504676  5.500000   \n",
       "\n",
       "       L_T7      F_PU1  S_PU1    ...         P_J300     P_J256     P_J289  \\\n",
       "0  1.562321  98.998444      1    ...      26.426495  87.605774  26.495605   \n",
       "1  1.852043  99.095901      1    ...      26.422962  89.448341  26.487326   \n",
       "2  2.246126  98.420959      1    ...      26.427771  91.056114  26.487364   \n",
       "3  3.203573  97.575172      1    ...      26.519985  92.594353  26.575815   \n",
       "4  4.439714  97.351059      1    ...      26.671642  94.473099  26.723457   \n",
       "\n",
       "      P_J415     P_J302     P_J306     P_J307     P_J317      P_J14     P_J422  \n",
       "0  84.206619  18.901676  81.983734  18.791777  67.125603  29.387470  28.487471  \n",
       "1  85.900085  18.849329  82.150589  18.739643  67.178696  29.354256  28.454256  \n",
       "2  86.582474  19.597170  83.988579  19.496712  72.425293  29.354538  28.454538  \n",
       "3  88.020546  26.028486  64.670486  25.922703  76.275040  29.449951  28.549952  \n",
       "4  90.422462  26.209970  64.746620  26.104692  76.703529  29.574265  28.674263  \n",
       "\n",
       "[5 rows x 44 columns]"
      ]
     },
     "execution_count": 3,
     "metadata": {},
     "output_type": "execute_result"
    }
   ],
   "source": [
    "dataset03= dataset03.drop(\"ATT_FLAG\",axis=1,inplace=False) \n",
    "dataset03.head()\n",
    "#dataset03 = dataset03.loc[:,dataset03.columns!='DATETIME']  # primary key, x axis\n",
    "dataset03.head()\n",
    "#X_scaled = preprocessing.scale(dataset03)\n",
    "#print(\"X_scaled\")\n",
    "#print(X_scaled)"
   ]
  },
  {
   "cell_type": "code",
   "execution_count": 5,
   "metadata": {},
   "outputs": [
    {
     "data": {
      "image/png": "[encoded data removed]",
      "text/plain": [
       "<Figure size 432x288 with 1 Axes>"
      ]
     },
     "metadata": {},
     "output_type": "display_data"
    }
   ],
   "source": [
    "A = [437.479, 438.536, 440.026,471.161]\n",
    "bins = np.linspace(np.amin(A),np.amax(A),255) \n",
    "discretized_A = np.digitize(A, bins) \n",
    "plt.plot(A)\n",
    "plt.plot(discretized_A)\n",
    "plt.show()"
   ]
  },
  {
   "cell_type": "code",
   "execution_count": 47,
   "metadata": {},
   "outputs": [
    {
     "data": {
      "image/png": "[encoded data removed]",
      "text/plain": [
       "<Figure size 432x288 with 1 Axes>"
      ]
     },
     "metadata": {},
     "output_type": "display_data"
    }
   ],
   "source": [
    "A = X_scaled\n",
    "bins = np.linspace(np.amin(A),np.amax(A),8) \n",
    "discretized_A = np.digitize(A, bins) \n",
    "#plt.plot(A)\n",
    "plt.plot(discretized_A)\n",
    "plt.show()"
   ]
  },
  {
   "cell_type": "code",
   "execution_count": 74,
   "metadata": {},
   "outputs": [],
   "source": [
    "cA, cD = pywt.dwt([1, 2, 3, 4], 'db3') # db1 is Daubechies in discrrete form"
   ]
  },
  {
   "cell_type": "code",
   "execution_count": 75,
   "metadata": {},
   "outputs": [
    {
     "data": {
      "image/png": "[encoded data removed]",
      "text/plain": [
       "<Figure size 432x288 with 1 Axes>"
      ]
     },
     "metadata": {},
     "output_type": "display_data"
    }
   ],
   "source": [
    "plt.plot(cA)\n",
    "plt.plot(cD)\n",
    "plt.show()\n",
    "#pywt.wavelist(kind='discrete')"
   ]
  },
  {
   "cell_type": "code",
   "execution_count": 18,
   "metadata": {},
   "outputs": [
    {
     "data": {
      "image/png": "[encoded data removed]",
      "text/plain": [
       "<Figure size 432x288 with 1 Axes>"
      ]
     },
     "metadata": {},
     "output_type": "display_data"
    },
    {
     "data": {
      "image/png": "[encoded data removed]",
      "text/plain": [
       "<Figure size 432x288 with 1 Axes>"
      ]
     },
     "metadata": {},
     "output_type": "display_data"
    }
   ],
   "source": [
    "#discretize\n",
    "a = dataset03['L_T1']\n",
    "plt.plot(a)\n",
    "plt.show()\n",
    "q = 3\n",
    "discretize = np.percentile(a,q,axis=0,interpolation ='linear')\n",
    "plt.plot(discretize)\n",
    "plt.show()"
   ]
  }
 ],
 "metadata": {
  "kernelspec": {
   "display_name": "Python [conda env:py36]",
   "language": "python",
   "name": "conda-env-py36-py"
  },
  "language_info": {
   "codemirror_mode": {
    "name": "ipython",
    "version": 3
   },
   "file_extension": ".py",
   "mimetype": "text/x-python",
   "name": "python",
   "nbconvert_exporter": "python",
   "pygments_lexer": "ipython3",
   "version": "3.6.5"
  }
 },
 "nbformat": 4,
 "nbformat_minor": 2
}
