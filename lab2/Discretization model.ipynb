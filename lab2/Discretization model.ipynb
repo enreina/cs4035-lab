{
 "cells": [
  {
   "cell_type": "markdown",
   "metadata": {},
   "source": [
    "## Discretization Model\n",
    "##### The following questions have to be answered to complete this task\n",
    "###### 1. Discretize the sensor data using any of the methods discussed in class. Explain why you choose this method and why the obtained discretization makes sense\n",
    "###### 2. Visualize the discretization\n",
    "###### 3. Apply any of the sequential data mining methods (N-grams, Sequence alignment with kNN, …) to sliding windows with a length of your choosing in order to find anomalies\n",
    "###### 4. Whenever an observed N-gram’s probability is too small, or the sequential data is too distant from any training sequence, raise an alarm\n",
    "###### 5. Set your thresholds sensibly. \n",
    "###### 6. What kind of anomalies can you detect using the sequential model? \n",
    "###### 7. Which sensors can be modeled effectively?\n"
   ]
  },
  {
   "cell_type": "markdown",
   "metadata": {},
   "source": [
    "1. Discretize the sensor data using any of the methods discussed in class. Explain why you choose this method and why the obtained discretization makes sense"
   ]
  },
  {
   "cell_type": "code",
   "execution_count": 13,
   "metadata": {},
   "outputs": [],
   "source": [
    "import pandas as pd\n",
    "import matplotlib as plt\n",
    "import nltk\n",
    "import seaborn as sns\n",
    "from sklearn import preprocessing\n",
    "import numpy as np\n",
    "import itertools\n",
    "from itertools import islice"
   ]
  },
  {
   "cell_type": "code",
   "execution_count": 25,
   "metadata": {},
   "outputs": [
    {
     "data": {
      "text/plain": [
       "[('s', 'p', 'a'),\n",
       " ('p', 'a', 'm'),\n",
       " ('a', 'm', ' '),\n",
       " ('m', ' ', 'a'),\n",
       " (' ', 'a', 'n'),\n",
       " ('a', 'n', 'd'),\n",
       " ('n', 'd', ' '),\n",
       " ('d', ' ', 'e'),\n",
       " (' ', 'e', 'g'),\n",
       " ('e', 'g', 'g'),\n",
       " ('g', 'g', 's')]"
      ]
     },
     "execution_count": 25,
     "metadata": {},
     "output_type": "execute_result"
    }
   ],
   "source": [
    "from itertools import islice, tee\n",
    "s = 'spam and eggs'\n",
    "N = 3\n",
    "trigrams = zip(*(islice(seq, index, None) for index, seq in enumerate(tee(s, N))))\n",
    "list(trigrams)"
   ]
  }
 ],
 "metadata": {
  "kernelspec": {
   "display_name": "Python [conda env:py36]",
   "language": "python",
   "name": "conda-env-py36-py"
  },
  "language_info": {
   "codemirror_mode": {
    "name": "ipython",
    "version": 3
   },
   "file_extension": ".py",
   "mimetype": "text/x-python",
   "name": "python",
   "nbconvert_exporter": "python",
   "pygments_lexer": "ipython3",
   "version": "3.6.5"
  }
 },
 "nbformat": 4,
 "nbformat_minor": 2
}
